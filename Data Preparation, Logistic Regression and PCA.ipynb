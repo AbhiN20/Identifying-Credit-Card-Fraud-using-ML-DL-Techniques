{
 "cells": [
  {
   "cell_type": "markdown",
   "metadata": {},
   "source": [
    "# import all the necessary libraries, set the display options as needed"
   ]
  },
  {
   "cell_type": "code",
   "execution_count": 1,
   "metadata": {},
   "outputs": [],
   "source": [
    "import os\n",
    "import pandas as pd\n",
    "import numpy as np\n",
    "import matplotlib.pyplot as plt\n",
    "from sklearn import preprocessing\n",
    "from sklearn.model_selection import train_test_split\n",
    "from imblearn.under_sampling import RandomUnderSampler\n",
    "from imblearn.over_sampling import RandomOverSampler\n",
    "from imblearn.combine import SMOTETomek\n",
    "from collections import Counter\n",
    "from sklearn import metrics\n",
    "from sklearn.metrics import classification_report\n",
    "from sklearn.metrics import roc_auc_score\n",
    "from sklearn.metrics import roc_curve\n",
    "\n",
    "from sklearn.model_selection import cross_val_score\n",
    "from sklearn.model_selection import StratifiedKFold\n",
    "from sklearn.metrics import f1_score\n",
    "from sklearn.metrics import recall_score\n",
    "from sklearn.metrics import precision_score\n",
    "\n",
    "\n",
    "from sklearn.linear_model import LogisticRegression\n",
    "\n",
    "pd.set_option(\"display.precision\", 3)\n",
    "pd.set_option(\"display.expand_frame_repr\", False)\n",
    "pd.set_option(\"display.max_rows\", 25)\n"
   ]
  },
  {
   "cell_type": "markdown",
   "metadata": {},
   "source": [
    "# Read the data from the csv file and check if its read correctly"
   ]
  },
  {
   "cell_type": "code",
   "execution_count": 2,
   "metadata": {},
   "outputs": [
    {
     "name": "stdout",
     "output_type": "stream",
     "text": [
      "The first 5 rows in the dataset are : \n",
      "    Time     V1     V2     V3     V4     V5     V6     V7     V8     V9  ...    V21    V22    V23    V24    V25    V26    V27    V28  Amount  Class\n",
      "0   0.0 -1.360 -0.073  2.536  1.378 -0.338  0.462  0.240  0.099  0.364  ... -0.018  0.278 -0.110  0.067  0.129 -0.189  0.134 -0.021  149.62      0\n",
      "1   0.0  1.192  0.266  0.166  0.448  0.060 -0.082 -0.079  0.085 -0.255  ... -0.226 -0.639  0.101 -0.340  0.167  0.126 -0.009  0.015    2.69      0\n",
      "2   1.0 -1.358 -1.340  1.773  0.380 -0.503  1.800  0.791  0.248 -1.515  ...  0.248  0.772  0.909 -0.689 -0.328 -0.139 -0.055 -0.060  378.66      0\n",
      "3   1.0 -0.966 -0.185  1.793 -0.863 -0.010  1.247  0.238  0.377 -1.387  ... -0.108  0.005 -0.190 -1.176  0.647 -0.222  0.063  0.061  123.50      0\n",
      "4   2.0 -1.158  0.878  1.549  0.403 -0.407  0.096  0.593 -0.271  0.818  ... -0.009  0.798 -0.137  0.141 -0.206  0.502  0.219  0.215   69.99      0\n",
      "\n",
      "[5 rows x 31 columns]\n",
      "\n",
      "\n",
      "The shape of the data is : (284807, 31)\n"
     ]
    }
   ],
   "source": [
    "data = pd.read_csv(\"creditcard.csv\")\n",
    "\n",
    "print(\"The first 5 rows in the dataset are :\", \"\\n\", data.head())\n",
    "print(\"\\n\")\n",
    "print(\"The shape of the data is :\", str(data.shape))\n"
   ]
  },
  {
   "cell_type": "markdown",
   "metadata": {},
   "source": [
    "# Check for the missing values, abnormal values, etc"
   ]
  },
  {
   "cell_type": "code",
   "execution_count": 3,
   "metadata": {},
   "outputs": [
    {
     "name": "stdout",
     "output_type": "stream",
     "text": [
      "Basic summary statistics of the data : \n",
      "            count       mean        std     min        25%        50%         75%         max\n",
      "Time    284807.0  9.481e+04  47488.146   0.000  54201.500  84692.000  139320.500  172792.000\n",
      "V1      284807.0  1.168e-15      1.959 -56.408     -0.920      0.018       1.316       2.455\n",
      "V2      284807.0  3.417e-16      1.651 -72.716     -0.599      0.065       0.804      22.058\n",
      "V3      284807.0 -1.380e-15      1.516 -48.326     -0.890      0.180       1.027       9.383\n",
      "V4      284807.0  2.074e-15      1.416  -5.683     -0.849     -0.020       0.743      16.875\n",
      "...          ...        ...        ...     ...        ...        ...         ...         ...\n",
      "V26     284807.0  1.683e-15      0.482  -2.605     -0.327     -0.052       0.241       3.517\n",
      "V27     284807.0 -3.660e-16      0.404 -22.566     -0.071      0.001       0.091      31.612\n",
      "V28     284807.0 -1.227e-16      0.330 -15.430     -0.053      0.011       0.078      33.848\n",
      "Amount  284807.0  8.835e+01    250.120   0.000      5.600     22.000      77.165   25691.160\n",
      "Class   284807.0  1.727e-03      0.042   0.000      0.000      0.000       0.000       1.000\n",
      "\n",
      "[31 rows x 8 columns]\n"
     ]
    },
    {
     "data": {
      "text/plain": [
       "Time      0\n",
       "V1        0\n",
       "V2        0\n",
       "V3        0\n",
       "V4        0\n",
       "         ..\n",
       "V26       0\n",
       "V27       0\n",
       "V28       0\n",
       "Amount    0\n",
       "Class     0\n",
       "Length: 31, dtype: int64"
      ]
     },
     "execution_count": 3,
     "metadata": {},
     "output_type": "execute_result"
    }
   ],
   "source": [
    "print(\"Basic summary statistics of the data :\", \"\\n\", data.describe(include = 'all').transpose())\n",
    "data.isnull().sum()"
   ]
  },
  {
   "cell_type": "markdown",
   "metadata": {},
   "source": [
    "# Checking for target variable class imbalance"
   ]
  },
  {
   "cell_type": "code",
   "execution_count": 4,
   "metadata": {},
   "outputs": [
    {
     "name": "stdout",
     "output_type": "stream",
     "text": [
      "The class counts of the target variable are : \n",
      "    Class  Counts\n",
      "0      0  284315\n",
      "1      1     492\n"
     ]
    },
    {
     "data": {
      "image/png": "[encoded data removed]",
      "text/plain": [
       "<Figure size 640x480 with 1 Axes>"
      ]
     },
     "metadata": {},
     "output_type": "display_data"
    }
   ],
   "source": [
    "class_counts = data.groupby(\"Class\").size().reset_index(name = \"Counts\")\n",
    "print(\"The class counts of the target variable are :\", \"\\n\", class_counts.head())\n",
    "\n",
    "plt.bar(class_counts['Class'], class_counts['Counts'], align='center')\n",
    "plt.xticks(class_counts['Class'])\n",
    "plt.ylabel('Frequency of target levels')\n",
    "plt.title('Target variable level imbalance - 0: No Fraud and 1: Fraud')\n",
    "plt.show()"
   ]
  },
  {
   "cell_type": "markdown",
   "metadata": {},
   "source": [
    "# We have to do a holdout sample for validation of the final model"
   ]
  },
  {
   "cell_type": "code",
   "execution_count": 5,
   "metadata": {},
   "outputs": [],
   "source": [
    "data_class0 = data[data.Class == 0]\n",
    "data_class1 = data[data.Class == 1]\n",
    "data_class0_train, data_class0_test = train_test_split(data_class0, test_size = 0.25,random_state = 12356) \n",
    "data_class1_train, data_class1_test = train_test_split(data_class1, test_size = 0.25,random_state = 12356) "
   ]
  },
  {
   "cell_type": "code",
   "execution_count": 6,
   "metadata": {},
   "outputs": [],
   "source": [
    "data_train = pd.concat([data_class0_train, data_class1_train], ignore_index = True)\n",
    "data_test = pd.concat([data_class0_test, data_class1_test], ignore_index = True)"
   ]
  },
  {
   "cell_type": "code",
   "execution_count": 7,
   "metadata": {},
   "outputs": [
    {
     "data": {
      "text/plain": [
       "Class\n",
       "0    213236\n",
       "1       369\n",
       "dtype: int64"
      ]
     },
     "execution_count": 7,
     "metadata": {},
     "output_type": "execute_result"
    }
   ],
   "source": [
    "data_train.groupby(\"Class\").size()"
   ]
  },
  {
   "cell_type": "code",
   "execution_count": 8,
   "metadata": {},
   "outputs": [
    {
     "data": {
      "text/html": [
       "<div>\n",
       "<style scoped>\n",
       "    .dataframe tbody tr th:only-of-type {\n",
       "        vertical-align: middle;\n",
       "    }\n",
       "\n",
       "    .dataframe tbody tr th {\n",
       "        vertical-align: top;\n",
       "    }\n",
       "\n",
       "    .dataframe thead th {\n",
       "        text-align: right;\n",
       "    }\n",
       "</style>\n",
       "<table border=\"1\" class=\"dataframe\">\n",
       "  <thead>\n",
       "    <tr style=\"text-align: right;\">\n",
       "      <th></th>\n",
       "      <th>Time</th>\n",
       "      <th>V1</th>\n",
       "      <th>V2</th>\n",
       "      <th>V3</th>\n",
       "      <th>V4</th>\n",
       "      <th>V5</th>\n",
       "      <th>V6</th>\n",
       "      <th>V7</th>\n",
       "      <th>V8</th>\n",
       "      <th>V9</th>\n",
       "      <th>...</th>\n",
       "      <th>V21</th>\n",
       "      <th>V22</th>\n",
       "      <th>V23</th>\n",
       "      <th>V24</th>\n",
       "      <th>V25</th>\n",
       "      <th>V26</th>\n",
       "      <th>V27</th>\n",
       "      <th>V28</th>\n",
       "      <th>Amount</th>\n",
       "      <th>Class</th>\n",
       "    </tr>\n",
       "  </thead>\n",
       "  <tbody>\n",
       "    <tr>\n",
       "      <th>0</th>\n",
       "      <td>69286.0</td>\n",
       "      <td>1.176</td>\n",
       "      <td>0.072</td>\n",
       "      <td>-0.737</td>\n",
       "      <td>1.582</td>\n",
       "      <td>2.151</td>\n",
       "      <td>4.121</td>\n",
       "      <td>-0.616</td>\n",
       "      <td>0.986</td>\n",
       "      <td>-0.325</td>\n",
       "      <td>...</td>\n",
       "      <td>-0.122</td>\n",
       "      <td>-0.355</td>\n",
       "      <td>-0.131</td>\n",
       "      <td>1.017</td>\n",
       "      <td>0.777</td>\n",
       "      <td>0.091</td>\n",
       "      <td>0.007</td>\n",
       "      <td>0.017</td>\n",
       "      <td>23.24</td>\n",
       "      <td>0</td>\n",
       "    </tr>\n",
       "    <tr>\n",
       "      <th>1</th>\n",
       "      <td>73938.0</td>\n",
       "      <td>-1.356</td>\n",
       "      <td>-0.120</td>\n",
       "      <td>-0.329</td>\n",
       "      <td>-1.971</td>\n",
       "      <td>1.160</td>\n",
       "      <td>-0.438</td>\n",
       "      <td>0.112</td>\n",
       "      <td>0.447</td>\n",
       "      <td>0.547</td>\n",
       "      <td>...</td>\n",
       "      <td>0.180</td>\n",
       "      <td>0.521</td>\n",
       "      <td>-0.589</td>\n",
       "      <td>-1.071</td>\n",
       "      <td>-0.141</td>\n",
       "      <td>-0.769</td>\n",
       "      <td>0.115</td>\n",
       "      <td>-0.150</td>\n",
       "      <td>13.99</td>\n",
       "      <td>0</td>\n",
       "    </tr>\n",
       "    <tr>\n",
       "      <th>2</th>\n",
       "      <td>162184.0</td>\n",
       "      <td>1.985</td>\n",
       "      <td>-0.382</td>\n",
       "      <td>-0.280</td>\n",
       "      <td>0.494</td>\n",
       "      <td>-0.721</td>\n",
       "      <td>-0.528</td>\n",
       "      <td>-0.575</td>\n",
       "      <td>-0.078</td>\n",
       "      <td>1.421</td>\n",
       "      <td>...</td>\n",
       "      <td>0.189</td>\n",
       "      <td>0.823</td>\n",
       "      <td>0.096</td>\n",
       "      <td>-0.074</td>\n",
       "      <td>-0.064</td>\n",
       "      <td>-0.207</td>\n",
       "      <td>0.044</td>\n",
       "      <td>-0.037</td>\n",
       "      <td>9.99</td>\n",
       "      <td>0</td>\n",
       "    </tr>\n",
       "    <tr>\n",
       "      <th>3</th>\n",
       "      <td>73341.0</td>\n",
       "      <td>1.095</td>\n",
       "      <td>0.080</td>\n",
       "      <td>0.305</td>\n",
       "      <td>1.027</td>\n",
       "      <td>0.009</td>\n",
       "      <td>0.243</td>\n",
       "      <td>-0.014</td>\n",
       "      <td>0.128</td>\n",
       "      <td>-0.015</td>\n",
       "      <td>...</td>\n",
       "      <td>-0.094</td>\n",
       "      <td>-0.203</td>\n",
       "      <td>-0.069</td>\n",
       "      <td>-0.316</td>\n",
       "      <td>0.531</td>\n",
       "      <td>-0.437</td>\n",
       "      <td>0.033</td>\n",
       "      <td>0.012</td>\n",
       "      <td>37.29</td>\n",
       "      <td>0</td>\n",
       "    </tr>\n",
       "    <tr>\n",
       "      <th>4</th>\n",
       "      <td>151521.0</td>\n",
       "      <td>0.158</td>\n",
       "      <td>0.147</td>\n",
       "      <td>0.311</td>\n",
       "      <td>-0.457</td>\n",
       "      <td>0.976</td>\n",
       "      <td>-0.583</td>\n",
       "      <td>0.840</td>\n",
       "      <td>-0.394</td>\n",
       "      <td>0.368</td>\n",
       "      <td>...</td>\n",
       "      <td>-0.272</td>\n",
       "      <td>-0.508</td>\n",
       "      <td>0.003</td>\n",
       "      <td>-0.524</td>\n",
       "      <td>-1.091</td>\n",
       "      <td>0.094</td>\n",
       "      <td>-0.365</td>\n",
       "      <td>-0.382</td>\n",
       "      <td>1.98</td>\n",
       "      <td>0</td>\n",
       "    </tr>\n",
       "  </tbody>\n",
       "</table>\n",
       "<p>5 rows × 31 columns</p>\n",
       "</div>"
      ],
      "text/plain": [
       "       Time     V1     V2     V3     V4     V5     V6     V7     V8     V9  ...    V21    V22    V23    V24    V25    V26    V27    V28  Amount  Class\n",
       "0   69286.0  1.176  0.072 -0.737  1.582  2.151  4.121 -0.616  0.986 -0.325  ... -0.122 -0.355 -0.131  1.017  0.777  0.091  0.007  0.017   23.24      0\n",
       "1   73938.0 -1.356 -0.120 -0.329 -1.971  1.160 -0.438  0.112  0.447  0.547  ...  0.180  0.521 -0.589 -1.071 -0.141 -0.769  0.115 -0.150   13.99      0\n",
       "2  162184.0  1.985 -0.382 -0.280  0.494 -0.721 -0.528 -0.575 -0.078  1.421  ...  0.189  0.823  0.096 -0.074 -0.064 -0.207  0.044 -0.037    9.99      0\n",
       "3   73341.0  1.095  0.080  0.305  1.027  0.009  0.243 -0.014  0.128 -0.015  ... -0.094 -0.203 -0.069 -0.316  0.531 -0.437  0.033  0.012   37.29      0\n",
       "4  151521.0  0.158  0.147  0.311 -0.457  0.976 -0.583  0.840 -0.394  0.368  ... -0.272 -0.508  0.003 -0.524 -1.091  0.094 -0.365 -0.382    1.98      0\n",
       "\n",
       "[5 rows x 31 columns]"
      ]
     },
     "execution_count": 8,
     "metadata": {},
     "output_type": "execute_result"
    }
   ],
   "source": [
    "data_test.head()"
   ]
  },
  {
   "cell_type": "markdown",
   "metadata": {},
   "source": [
    "# Removing the Time variable and standardizing the numeric variables, except target variable in the training data"
   ]
  },
  {
   "cell_type": "code",
   "execution_count": 9,
   "metadata": {},
   "outputs": [],
   "source": [
    "data.drop(['Time'], axis = 1, inplace = True)\n",
    "data_train.drop(['Time'], axis = 1, inplace = True)\n",
    "data_test.drop(['Time'], axis = 1, inplace = True)\n",
    "\n",
    "X_train = data_train.iloc[:, :-1].values\n",
    "y_train = data_train.iloc[:, -1].values\n",
    "X_test = data_test.iloc[:, :-1].values\n",
    "y_test = data_test.iloc[:, -1].values\n",
    "\n",
    "scaler = preprocessing.StandardScaler()\n",
    "X_train_standardized = scaler.fit_transform(X_train)\n",
    "X_test_standardized = scaler.fit_transform(X_test)"
   ]
  },
  {
   "cell_type": "markdown",
   "metadata": {},
   "source": [
    "# Build 3 separate datasets from training data-\n",
    "# Random Undersampling of training data, building a logit model, and validation on holdout data\n",
    "# Random Oversampling of training data, building a logit model, and validation on holdout data\n",
    "# SMOTETOMEK oversampling of training data, building a logit model, and validation on holdout data"
   ]
  },
  {
   "cell_type": "code",
   "execution_count": 10,
   "metadata": {},
   "outputs": [
    {
     "name": "stdout",
     "output_type": "stream",
     "text": [
      "Undersampled training dataset shape Counter({0: 369, 1: 369})\n",
      "Original training dataset shape Counter({0: 213236, 1: 369})\n",
      "Original testing dataset shape Counter({0: 71079, 1: 123})\n"
     ]
    }
   ],
   "source": [
    "rus = RandomUnderSampler(random_state=123)\n",
    "X_rus, y_rus = rus.fit_resample(X_train_standardized, y_train)\n",
    "print('Undersampled training dataset shape %s' % Counter(y_rus))\n",
    "print('Original training dataset shape %s' % Counter(y_train))\n",
    "print('Original testing dataset shape %s' % Counter(y_test))"
   ]
  },
  {
   "cell_type": "code",
   "execution_count": 11,
   "metadata": {},
   "outputs": [
    {
     "name": "stdout",
     "output_type": "stream",
     "text": [
      "Oversampled training dataset shape Counter({0: 213236, 1: 213236})\n",
      "Original training dataset shape Counter({0: 213236, 1: 369})\n",
      "Original testing dataset shape Counter({0: 71079, 1: 123})\n"
     ]
    }
   ],
   "source": [
    "ros = RandomOverSampler(sampling_strategy='minority', random_state=123)\n",
    "X_ros, y_ros = ros.fit_resample(X_train_standardized, y_train)\n",
    "print('Oversampled training dataset shape %s' % Counter(y_ros))\n",
    "print('Original training dataset shape %s' % Counter(y_train))\n",
    "print('Original testing dataset shape %s' % Counter(y_test))"
   ]
  },
  {
   "cell_type": "code",
   "execution_count": 12,
   "metadata": {},
   "outputs": [
    {
     "name": "stdout",
     "output_type": "stream",
     "text": [
      "SmoteTomek dataset shape Counter({0: 213236, 1: 213236})\n",
      "Original training dataset shape Counter({0: 213236, 1: 369})\n",
      "Original testing dataset shape Counter({0: 71079, 1: 123})\n"
     ]
    }
   ],
   "source": [
    "smt = SMOTETomek(random_state=123)\n",
    "X_smt, y_smt = smt.fit_resample(X_train_standardized, y_train)\n",
    "print('SmoteTomek dataset shape %s' % Counter(y_smt))\n",
    "print('Original training dataset shape %s' % Counter(y_train))\n",
    "print('Original testing dataset shape %s' % Counter(y_test))"
   ]
  },
  {
   "cell_type": "markdown",
   "metadata": {},
   "source": [
    "# Save the smotetomek upsampled training data and test data as csv files onto the machine"
   ]
  },
  {
   "cell_type": "code",
   "execution_count": 13,
   "metadata": {},
   "outputs": [],
   "source": [
    "X_cols = list(data.columns.values)\n",
    "X_cols.remove('Class')\n",
    "X_smt_df = pd.DataFrame(X_smt, columns = X_cols)\n",
    "X_smt_df.head()\n",
    "y_smt_df = pd.DataFrame(y_smt, columns = ['Class'])\n",
    "y_smt_df.head()\n",
    "Smote_train = pd.concat([X_smt_df, y_smt_df], axis = 1)\n",
    "Smote_train.to_csv('SMOTE_TRAIN.CSV')\n",
    "\n",
    "X_test_df = pd.DataFrame(X_test_standardized, columns = X_cols)\n",
    "X_test_df.head()\n",
    "y_test_df = pd.DataFrame(y_test, columns = ['Class'])\n",
    "y_test_df.head()\n",
    "test = pd.concat([X_test_df, y_test_df], axis = 1)\n",
    "test.to_csv('test.CSV')\n"
   ]
  },
  {
   "cell_type": "markdown",
   "metadata": {},
   "source": [
    "# 3 models on the 3 differently sampled datasets and validation them on the common test data"
   ]
  },
  {
   "cell_type": "markdown",
   "metadata": {},
   "source": [
    "# Model1- Undersampled data and validation on test data"
   ]
  },
  {
   "cell_type": "code",
   "execution_count": 14,
   "metadata": {},
   "outputs": [
    {
     "name": "stdout",
     "output_type": "stream",
     "text": [
      "The accuracy of the Logistic regression model on the Undersampled training data is : 0.9552845528455285\n",
      "The accuracy of the Logistic regression model on the test data is : 0.9533159180921884\n"
     ]
    }
   ],
   "source": [
    "clf_rus = LogisticRegression(solver =  'liblinear', penalty = 'l1', random_state=0).fit(X_rus, y_rus)\n",
    "PREDICTIONS_rus_train = clf_rus.predict(X_rus)\n",
    "PREDICTIONS_rus_test = clf_rus.predict(X_test_standardized)\n",
    "print(\"The accuracy of the Logistic regression model on the Undersampled training data is :\", clf_rus.score(X_rus, y_rus))\n",
    "print(\"The accuracy of the Logistic regression model on the test data is :\", clf_rus.score(X_test_standardized, y_test))"
   ]
  },
  {
   "cell_type": "code",
   "execution_count": 15,
   "metadata": {},
   "outputs": [
    {
     "name": "stdout",
     "output_type": "stream",
     "text": [
      "The confusion matrix of training data is : \n",
      " [[365   4]\n",
      " [ 29 340]]\n",
      "The confusion matrix of test data is : \n",
      " [[67763  3316]\n",
      " [    8   115]]\n"
     ]
    }
   ],
   "source": [
    "cm_rus_train = metrics.confusion_matrix(y_rus, PREDICTIONS_rus_train)\n",
    "print(\"The confusion matrix of training data is :\", \"\\n\", cm_rus_train)\n",
    "cm_rus_test = metrics.confusion_matrix(y_test, PREDICTIONS_rus_test)\n",
    "print(\"The confusion matrix of test data is :\", \"\\n\", cm_rus_test)"
   ]
  },
  {
   "cell_type": "code",
   "execution_count": 16,
   "metadata": {},
   "outputs": [
    {
     "name": "stdout",
     "output_type": "stream",
     "text": [
      "The classification report on training data is \n",
      "\n",
      "              precision    recall  f1-score   support\n",
      "\n",
      "           0       0.93      0.99      0.96       369\n",
      "           1       0.99      0.92      0.95       369\n",
      "\n",
      "    accuracy                           0.96       738\n",
      "   macro avg       0.96      0.96      0.96       738\n",
      "weighted avg       0.96      0.96      0.96       738\n",
      "\n",
      "The classification report on test data is \n",
      "\n",
      "              precision    recall  f1-score   support\n",
      "\n",
      "           0       1.00      0.95      0.98     71079\n",
      "           1       0.03      0.93      0.06       123\n",
      "\n",
      "    accuracy                           0.95     71202\n",
      "   macro avg       0.52      0.94      0.52     71202\n",
      "weighted avg       1.00      0.95      0.97     71202\n",
      "\n"
     ]
    }
   ],
   "source": [
    "print(\"The classification report on training data is \\n\")\n",
    "print(classification_report(y_rus, PREDICTIONS_rus_train))\n",
    "print(\"The classification report on test data is \\n\")\n",
    "print(classification_report(y_test, PREDICTIONS_rus_test))"
   ]
  },
  {
   "cell_type": "code",
   "execution_count": 17,
   "metadata": {},
   "outputs": [
    {
     "data": {
      "image/png": "[encoded data removed]",
      "text/plain": [
       "<Figure size 640x480 with 1 Axes>"
      ]
     },
     "metadata": {},
     "output_type": "display_data"
    },
    {
     "data": {
      "text/plain": [
       "<Figure size 640x480 with 0 Axes>"
      ]
     },
     "metadata": {},
     "output_type": "display_data"
    }
   ],
   "source": [
    "logit_roc_auc = roc_auc_score(y_rus, clf_rus.predict(X_rus))\n",
    "fpr, tpr, thresholds = roc_curve(y_rus, clf_rus.predict_proba(X_rus)[:,1])\n",
    "plt.figure()\n",
    "plt.plot(fpr, tpr, label='Logistic Regression (area = %0.2f)' % logit_roc_auc)\n",
    "plt.plot([0, 1], [0, 1],'r--')\n",
    "plt.xlim([0.0, 1.0])\n",
    "plt.ylim([0.0, 1.05])\n",
    "plt.xlabel('False Positive Rate')\n",
    "plt.ylabel('True Positive Rate')\n",
    "plt.title('Receiver operating characteristic - Undersampled training data')\n",
    "plt.legend(loc=\"lower right\")\n",
    "plt.savefig('Log_ROC')\n",
    "plt.figure()\n",
    "plt.show()"
   ]
  },
  {
   "cell_type": "code",
   "execution_count": 18,
   "metadata": {},
   "outputs": [
    {
     "data": {
      "image/png": "[encoded data removed]",
      "text/plain": [
       "<Figure size 640x480 with 1 Axes>"
      ]
     },
     "metadata": {},
     "output_type": "display_data"
    },
    {
     "data": {
      "text/plain": [
       "<Figure size 640x480 with 0 Axes>"
      ]
     },
     "metadata": {},
     "output_type": "display_data"
    }
   ],
   "source": [
    "logit_roc_auc = roc_auc_score(y_test, clf_rus.predict(X_test_standardized))\n",
    "fpr, tpr, thresholds = roc_curve(y_test, clf_rus.predict_proba(X_test_standardized)[:,1])\n",
    "plt.figure()\n",
    "plt.plot(fpr, tpr, label='Logistic Regression (area = %0.2f)' % logit_roc_auc)\n",
    "plt.plot([0, 1], [0, 1],'r--')\n",
    "plt.xlim([0.0, 1.0])\n",
    "plt.ylim([0.0, 1.05])\n",
    "plt.xlabel('False Positive Rate')\n",
    "plt.ylabel('True Positive Rate')\n",
    "plt.title('Receiver operating characteristic - test data')\n",
    "plt.legend(loc=\"lower right\")\n",
    "plt.savefig('Log_ROC')\n",
    "plt.figure()\n",
    "plt.show()"
   ]
  },
  {
   "cell_type": "markdown",
   "metadata": {},
   "source": [
    "# Model2- Oversampled data and validation on test data\n"
   ]
  },
  {
   "cell_type": "code",
   "execution_count": 19,
   "metadata": {},
   "outputs": [
    {
     "name": "stdout",
     "output_type": "stream",
     "text": [
      "The accuracy of the Logistic regression model on the Oversampled training data is : 0.9457643174698456\n",
      "The accuracy of the Logistic regression model on the test data is : 0.9774865874554085\n"
     ]
    },
    {
     "name": "stderr",
     "output_type": "stream",
     "text": [
      "c:\\users\\user\\ml-spring-2023\\lib\\site-packages\\sklearn\\linear_model\\_sag.py:350: ConvergenceWarning: The max_iter was reached which means the coef_ did not converge\n",
      "  warnings.warn(\n"
     ]
    }
   ],
   "source": [
    "clf_ros = LogisticRegression(solver = 'saga', penalty = 'l2', random_state=0).fit(X_ros, y_ros)\n",
    "PREDICTIONS_ros_train = clf_ros.predict(X_ros)\n",
    "PREDICTIONS_ros_test = clf_ros.predict(X_test_standardized)\n",
    "print(\"The accuracy of the Logistic regression model on the Oversampled training data is :\", clf_ros.score(X_ros, y_ros))\n",
    "print(\"The accuracy of the Logistic regression model on the test data is :\", clf_ros.score(X_test_standardized, y_test))\n"
   ]
  },
  {
   "cell_type": "code",
   "execution_count": 20,
   "metadata": {},
   "outputs": [
    {
     "name": "stdout",
     "output_type": "stream",
     "text": [
      "The confusion matrix of training data is : \n",
      " [[208518   4718]\n",
      " [ 18412 194824]]\n",
      "The confusion matrix of test data is : \n",
      " [[69486  1593]\n",
      " [   10   113]]\n"
     ]
    }
   ],
   "source": [
    "cm_ros_train = metrics.confusion_matrix(y_ros, PREDICTIONS_ros_train)\n",
    "print(\"The confusion matrix of training data is :\", \"\\n\", cm_ros_train)\n",
    "cm_ros_test = metrics.confusion_matrix(y_test, PREDICTIONS_ros_test)\n",
    "print(\"The confusion matrix of test data is :\", \"\\n\", cm_ros_test)"
   ]
  },
  {
   "cell_type": "code",
   "execution_count": 21,
   "metadata": {},
   "outputs": [
    {
     "name": "stdout",
     "output_type": "stream",
     "text": [
      "The classification report on training data is \n",
      "\n",
      "              precision    recall  f1-score   support\n",
      "\n",
      "           0       0.92      0.98      0.95    213236\n",
      "           1       0.98      0.91      0.94    213236\n",
      "\n",
      "    accuracy                           0.95    426472\n",
      "   macro avg       0.95      0.95      0.95    426472\n",
      "weighted avg       0.95      0.95      0.95    426472\n",
      "\n",
      "The classification report on test data is \n",
      "\n",
      "              precision    recall  f1-score   support\n",
      "\n",
      "           0       1.00      0.98      0.99     71079\n",
      "           1       0.07      0.92      0.12       123\n",
      "\n",
      "    accuracy                           0.98     71202\n",
      "   macro avg       0.53      0.95      0.56     71202\n",
      "weighted avg       1.00      0.98      0.99     71202\n",
      "\n"
     ]
    }
   ],
   "source": [
    "print(\"The classification report on training data is \\n\")\n",
    "print(classification_report(y_ros, PREDICTIONS_ros_train))\n",
    "print(\"The classification report on test data is \\n\")\n",
    "print(classification_report(y_test, PREDICTIONS_ros_test))"
   ]
  },
  {
   "cell_type": "code",
   "execution_count": 22,
   "metadata": {},
   "outputs": [
    {
     "data": {
      "image/png": "[encoded data removed]",
      "text/plain": [
       "<Figure size 640x480 with 1 Axes>"
      ]
     },
     "metadata": {},
     "output_type": "display_data"
    },
    {
     "data": {
      "text/plain": [
       "<Figure size 640x480 with 0 Axes>"
      ]
     },
     "metadata": {},
     "output_type": "display_data"
    }
   ],
   "source": [
    "logit_roc_auc = roc_auc_score(y_ros, clf_ros.predict(X_ros))\n",
    "fpr, tpr, thresholds = roc_curve(y_ros, clf_ros.predict_proba(X_ros)[:,1])\n",
    "plt.figure()\n",
    "plt.plot(fpr, tpr, label='Logistic Regression (area = %0.2f)' % logit_roc_auc)\n",
    "plt.plot([0, 1], [0, 1],'r--')\n",
    "plt.xlim([0.0, 1.0])\n",
    "plt.ylim([0.0, 1.05])\n",
    "plt.xlabel('False Positive Rate')\n",
    "plt.ylabel('True Positive Rate')\n",
    "plt.title('Receiver operating characteristic - Oversampled training data')\n",
    "plt.legend(loc=\"lower right\")\n",
    "plt.savefig('Log_ROC')\n",
    "plt.figure()\n",
    "plt.show()"
   ]
  },
  {
   "cell_type": "code",
   "execution_count": 23,
   "metadata": {},
   "outputs": [
    {
     "data": {
      "image/png": "[encoded data removed]",
      "text/plain": [
       "<Figure size 640x480 with 1 Axes>"
      ]
     },
     "metadata": {},
     "output_type": "display_data"
    },
    {
     "data": {
      "text/plain": [
       "<Figure size 640x480 with 0 Axes>"
      ]
     },
     "metadata": {},
     "output_type": "display_data"
    }
   ],
   "source": [
    "logit_roc_auc = roc_auc_score(y_test, clf_ros.predict(X_test_standardized))\n",
    "fpr, tpr, thresholds = roc_curve(y_test, clf_ros.predict_proba(X_test_standardized)[:,1])\n",
    "plt.figure()\n",
    "plt.plot(fpr, tpr, label='Logistic Regression (area = %0.2f)' % logit_roc_auc)\n",
    "plt.plot([0, 1], [0, 1],'r--')\n",
    "plt.xlim([0.0, 1.0])\n",
    "plt.ylim([0.0, 1.05])\n",
    "plt.xlabel('False Positive Rate')\n",
    "plt.ylabel('True Positive Rate')\n",
    "plt.title('Receiver operating characteristic - test data')\n",
    "plt.legend(loc=\"lower right\")\n",
    "plt.savefig('Log_ROC')\n",
    "plt.figure()\n",
    "plt.show()\n"
   ]
  },
  {
   "cell_type": "markdown",
   "metadata": {},
   "source": [
    "# Model3- SMOTETOMEK Oversampled data and validation on test data\n"
   ]
  },
  {
   "cell_type": "code",
   "execution_count": 24,
   "metadata": {},
   "outputs": [
    {
     "name": "stdout",
     "output_type": "stream",
     "text": [
      "The accuracy of the Logistic regression model on the SMOTE TOMEK Oversampled training data is : 0.9418836406610516\n",
      "The accuracy of the Logistic regression model on the test data is : 0.9753939496081571\n"
     ]
    },
    {
     "name": "stderr",
     "output_type": "stream",
     "text": [
      "c:\\users\\user\\ml-spring-2023\\lib\\site-packages\\sklearn\\linear_model\\_sag.py:350: ConvergenceWarning: The max_iter was reached which means the coef_ did not converge\n",
      "  warnings.warn(\n"
     ]
    }
   ],
   "source": [
    "clf_smt = LogisticRegression(solver = 'saga', penalty = 'elasticnet', l1_ratio = 0.5, random_state=0).fit(X_smt, y_smt)\n",
    "PREDICTIONS_smt_train = clf_smt.predict(X_smt)\n",
    "PREDICTIONS_smt_test = clf_smt.predict(X_test_standardized)\n",
    "print(\"The accuracy of the Logistic regression model on the SMOTE TOMEK Oversampled training data is :\", clf_smt.score(X_smt, y_smt))\n",
    "print(\"The accuracy of the Logistic regression model on the test data is :\", clf_smt.score(X_test_standardized, y_test))"
   ]
  },
  {
   "cell_type": "code",
   "execution_count": 25,
   "metadata": {},
   "outputs": [
    {
     "name": "stdout",
     "output_type": "stream",
     "text": [
      "The confusion matrix of training data is : \n",
      " [[208054   5182]\n",
      " [ 19603 193633]]\n",
      "The confusion matrix of test data is : \n",
      " [[69337  1742]\n",
      " [   10   113]]\n"
     ]
    }
   ],
   "source": [
    "cm_smt_train = metrics.confusion_matrix(y_smt, PREDICTIONS_smt_train)\n",
    "print(\"The confusion matrix of training data is :\", \"\\n\", cm_smt_train)\n",
    "cm_smt_test = metrics.confusion_matrix(y_test, PREDICTIONS_smt_test)\n",
    "print(\"The confusion matrix of test data is :\", \"\\n\", cm_smt_test)"
   ]
  },
  {
   "cell_type": "code",
   "execution_count": 26,
   "metadata": {},
   "outputs": [
    {
     "name": "stdout",
     "output_type": "stream",
     "text": [
      "The classification report on training data is \n",
      "\n",
      "              precision    recall  f1-score   support\n",
      "\n",
      "           0       0.91      0.98      0.94    213236\n",
      "           1       0.97      0.91      0.94    213236\n",
      "\n",
      "    accuracy                           0.94    426472\n",
      "   macro avg       0.94      0.94      0.94    426472\n",
      "weighted avg       0.94      0.94      0.94    426472\n",
      "\n",
      "The classification report on test data is \n",
      "\n",
      "              precision    recall  f1-score   support\n",
      "\n",
      "           0       1.00      0.98      0.99     71079\n",
      "           1       0.06      0.92      0.11       123\n",
      "\n",
      "    accuracy                           0.98     71202\n",
      "   macro avg       0.53      0.95      0.55     71202\n",
      "weighted avg       1.00      0.98      0.99     71202\n",
      "\n"
     ]
    }
   ],
   "source": [
    "print(\"The classification report on training data is \\n\")\n",
    "print(classification_report(y_smt, PREDICTIONS_smt_train))\n",
    "print(\"The classification report on test data is \\n\")\n",
    "print(classification_report(y_test, PREDICTIONS_smt_test))"
   ]
  },
  {
   "cell_type": "code",
   "execution_count": 27,
   "metadata": {},
   "outputs": [
    {
     "data": {
      "image/png": "[encoded data removed]",
      "text/plain": [
       "<Figure size 640x480 with 1 Axes>"
      ]
     },
     "metadata": {},
     "output_type": "display_data"
    },
    {
     "data": {
      "text/plain": [
       "<Figure size 640x480 with 0 Axes>"
      ]
     },
     "metadata": {},
     "output_type": "display_data"
    }
   ],
   "source": [
    "logit_roc_auc = roc_auc_score(y_ros, clf_smt.predict(X_smt))\n",
    "fpr, tpr, thresholds = roc_curve(y_ros, clf_smt.predict_proba(X_smt)[:,1])\n",
    "plt.figure()\n",
    "plt.plot(fpr, tpr, label='Logistic Regression (area = %0.2f)' % logit_roc_auc)\n",
    "plt.plot([0, 1], [0, 1],'r--')\n",
    "plt.xlim([0.0, 1.0])\n",
    "plt.ylim([0.0, 1.05])\n",
    "plt.xlabel('False Positive Rate')\n",
    "plt.ylabel('True Positive Rate')\n",
    "plt.title('Receiver operating characteristic - SMOTETOMEK Oversampled training data')\n",
    "plt.legend(loc=\"lower right\")\n",
    "plt.savefig('Log_ROC')\n",
    "plt.figure()\n",
    "plt.show()"
   ]
  },
  {
   "cell_type": "code",
   "execution_count": 29,
   "metadata": {},
   "outputs": [
    {
     "data": {
      "image/png": "[encoded data removed]",
      "text/plain": [
       "<Figure size 640x480 with 1 Axes>"
      ]
     },
     "metadata": {},
     "output_type": "display_data"
    },
    {
     "data": {
      "text/plain": [
       "<Figure size 640x480 with 0 Axes>"
      ]
     },
     "metadata": {},
     "output_type": "display_data"
    }
   ],
   "source": [
    "logit_roc_auc = roc_auc_score(y_test, clf_smt.predict(X_test_standardized))\n",
    "fpr, tpr, thresholds = roc_curve(y_test, clf_smt.predict_proba(X_test_standardized)[:,1])\n",
    "plt.figure()\n",
    "plt.plot(fpr, tpr, label='Logistic Regression (area = %0.2f)' % logit_roc_auc)\n",
    "plt.plot([0, 1], [0, 1],'r--')\n",
    "plt.xlim([0.0, 1.0])\n",
    "plt.ylim([0.0, 1.05])\n",
    "plt.xlabel('False Positive Rate')\n",
    "plt.ylabel('True Positive Rate')\n",
    "plt.title('Receiver operating characteristic - test data')\n",
    "plt.legend(loc=\"lower right\")\n",
    "plt.savefig('Log_ROC')\n",
    "plt.figure()\n",
    "plt.show()\n"
   ]
  },
  {
   "cell_type": "markdown",
   "metadata": {},
   "source": [
    "SMOTETOMEK oversampled data gave us the best results. So, I will use that data."
   ]
  },
  {
   "cell_type": "markdown",
   "metadata": {
    "scrolled": true
   },
   "source": [
    "# 10 fold CV on whole data without sampling - This is an incorrect approach, but just to see"
   ]
  },
  {
   "cell_type": "code",
   "execution_count": 30,
   "metadata": {},
   "outputs": [
    {
     "name": "stderr",
     "output_type": "stream",
     "text": [
      "c:\\users\\user\\ml-spring-2023\\lib\\site-packages\\sklearn\\linear_model\\_sag.py:350: ConvergenceWarning: The max_iter was reached which means the coef_ did not converge\n",
      "  warnings.warn(\n"
     ]
    },
    {
     "name": "stdout",
     "output_type": "stream",
     "text": [
      "For fold 1:\n",
      "Accuracy: 0.9764053228468101\n",
      "f-score: 0.125\n",
      "recall: 0.9795918367346939\n",
      "precision: 0.06675938803894298\n"
     ]
    },
    {
     "name": "stderr",
     "output_type": "stream",
     "text": [
      "c:\\users\\user\\ml-spring-2023\\lib\\site-packages\\sklearn\\linear_model\\_sag.py:350: ConvergenceWarning: The max_iter was reached which means the coef_ did not converge\n",
      "  warnings.warn(\n"
     ]
    },
    {
     "name": "stdout",
     "output_type": "stream",
     "text": [
      "For fold 2:\n",
      "Accuracy: 0.977599101155156\n",
      "f-score: 0.08857142857142856\n",
      "recall: 0.6326530612244898\n",
      "precision: 0.047619047619047616\n"
     ]
    },
    {
     "name": "stderr",
     "output_type": "stream",
     "text": [
      "c:\\users\\user\\ml-spring-2023\\lib\\site-packages\\sklearn\\linear_model\\_sag.py:350: ConvergenceWarning: The max_iter was reached which means the coef_ did not converge\n",
      "  warnings.warn(\n"
     ]
    },
    {
     "name": "stdout",
     "output_type": "stream",
     "text": [
      "For fold 3:\n",
      "Accuracy: 0.9768266563674028\n",
      "f-score: 0.12928759894459102\n",
      "recall: 1.0\n",
      "precision: 0.0691114245416079\n"
     ]
    },
    {
     "name": "stderr",
     "output_type": "stream",
     "text": [
      "c:\\users\\user\\ml-spring-2023\\lib\\site-packages\\sklearn\\linear_model\\_sag.py:350: ConvergenceWarning: The max_iter was reached which means the coef_ did not converge\n",
      "  warnings.warn(\n"
     ]
    },
    {
     "name": "stdout",
     "output_type": "stream",
     "text": [
      "For fold 4:\n",
      "Accuracy: 0.9869737719883431\n",
      "f-score: 0.17371937639198218\n",
      "recall: 0.7959183673469388\n",
      "precision: 0.0975\n"
     ]
    },
    {
     "name": "stderr",
     "output_type": "stream",
     "text": [
      "c:\\users\\user\\ml-spring-2023\\lib\\site-packages\\sklearn\\linear_model\\_sag.py:350: ConvergenceWarning: The max_iter was reached which means the coef_ did not converge\n",
      "  warnings.warn(\n"
     ]
    },
    {
     "name": "stdout",
     "output_type": "stream",
     "text": [
      "For fold 5:\n",
      "Accuracy: 0.9826551034022681\n",
      "f-score: 0.1393728222996516\n",
      "recall: 0.8163265306122449\n",
      "precision: 0.0761904761904762\n"
     ]
    },
    {
     "name": "stderr",
     "output_type": "stream",
     "text": [
      "c:\\users\\user\\ml-spring-2023\\lib\\site-packages\\sklearn\\linear_model\\_sag.py:350: ConvergenceWarning: The max_iter was reached which means the coef_ did not converge\n",
      "  warnings.warn(\n"
     ]
    },
    {
     "name": "stdout",
     "output_type": "stream",
     "text": [
      "For fold 6:\n",
      "Accuracy: 0.9529159790737685\n",
      "f-score: 0.0642009769713887\n",
      "recall: 0.92\n",
      "precision: 0.033261026753434564\n"
     ]
    },
    {
     "name": "stderr",
     "output_type": "stream",
     "text": [
      "c:\\users\\user\\ml-spring-2023\\lib\\site-packages\\sklearn\\linear_model\\_sag.py:350: ConvergenceWarning: The max_iter was reached which means the coef_ did not converge\n",
      "  warnings.warn(\n"
     ]
    },
    {
     "name": "stdout",
     "output_type": "stream",
     "text": [
      "For fold 7:\n",
      "Accuracy: 0.9589199817422142\n",
      "f-score: 0.07582938388625592\n",
      "recall: 0.96\n",
      "precision: 0.039473684210526314\n"
     ]
    },
    {
     "name": "stderr",
     "output_type": "stream",
     "text": [
      "c:\\users\\user\\ml-spring-2023\\lib\\site-packages\\sklearn\\linear_model\\_sag.py:350: ConvergenceWarning: The max_iter was reached which means the coef_ did not converge\n",
      "  warnings.warn(\n"
     ]
    },
    {
     "name": "stdout",
     "output_type": "stream",
     "text": [
      "For fold 8:\n",
      "Accuracy: 0.9706811797752809\n",
      "f-score: 0.09534127843986999\n",
      "recall: 0.8979591836734694\n",
      "precision: 0.05034324942791762\n"
     ]
    },
    {
     "name": "stderr",
     "output_type": "stream",
     "text": [
      "c:\\users\\user\\ml-spring-2023\\lib\\site-packages\\sklearn\\linear_model\\_sag.py:350: ConvergenceWarning: The max_iter was reached which means the coef_ did not converge\n",
      "  warnings.warn(\n"
     ]
    },
    {
     "name": "stdout",
     "output_type": "stream",
     "text": [
      "For fold 9:\n",
      "Accuracy: 0.971875\n",
      "f-score: 0.10302351623740202\n",
      "recall: 0.9387755102040817\n",
      "precision: 0.054502369668246446\n",
      "For fold 10:\n",
      "Accuracy: 0.9777387640449439\n",
      "f-score: 0.11204481792717087\n",
      "recall: 0.8163265306122449\n",
      "precision: 0.06015037593984962\n"
     ]
    },
    {
     "name": "stderr",
     "output_type": "stream",
     "text": [
      "c:\\users\\user\\ml-spring-2023\\lib\\site-packages\\sklearn\\linear_model\\_sag.py:350: ConvergenceWarning: The max_iter was reached which means the coef_ did not converge\n",
      "  warnings.warn(\n"
     ]
    }
   ],
   "source": [
    "from sklearn.model_selection import StratifiedKFold\n",
    "from sklearn.metrics import f1_score\n",
    "\n",
    "cv = StratifiedKFold(n_splits=10)\n",
    "X = data.iloc[:, :-1].values\n",
    "y = data.iloc[:, -1].values.reshape(-1,1)\n",
    "scaler = preprocessing.StandardScaler()\n",
    "X_standardized = scaler.fit_transform(X)\n",
    "\n",
    "for fold, (train_index, test_index) in enumerate(cv.split(X_standardized,y),1):\n",
    "    X_train = X_standardized[train_index]\n",
    "    y_train = y[train_index] \n",
    "    X_test = X_standardized[test_index]\n",
    "    y_test = y[test_index] \n",
    "    X_train_oversampled, y_train_oversampled = SMOTETomek(random_state = 1).fit_resample(X_train, y_train)\n",
    "    model = LogisticRegression(solver = 'saga', penalty = 'elasticnet', l1_ratio = 0.5, random_state=0)\n",
    "    model.fit(X_train_oversampled, y_train_oversampled )  \n",
    "    y_pred = model.predict(X_test)\n",
    "    print(f'For fold {fold}:')\n",
    "    print(f'Accuracy: {model.score(X_test, y_test)}')\n",
    "    print(f'f-score: {f1_score(y_test, y_pred)}')\n",
    "    print(f'recall: {recall_score(y_test, y_pred)}')\n",
    "    print(f'precision: {precision_score(y_test, y_pred)}')"
   ]
  },
  {
   "cell_type": "markdown",
   "metadata": {},
   "source": [
    "The precision is very low"
   ]
  },
  {
   "cell_type": "markdown",
   "metadata": {},
   "source": [
    "# The correct way of doing Cross Validation"
   ]
  },
  {
   "cell_type": "code",
   "execution_count": 31,
   "metadata": {},
   "outputs": [
    {
     "data": {
      "text/plain": [
       "(array([0.97591377, 0.97710755, 0.97693199, 0.98707911, 0.98247955,\n",
       "        0.95319687, 0.95906043, 0.97106742, 0.97194522, 0.97759831]),\n",
       " array([0.12276215, 0.08683473, 0.12980132, 0.17857143, 0.13518198,\n",
       "        0.0645614 , 0.07606973, 0.09649123, 0.10325477, 0.11142061]),\n",
       " array([0.97959184, 0.63265306, 1.        , 0.81632653, 0.79591837,\n",
       "        0.92      , 0.96      , 0.89795918, 0.93877551, 0.81632653]),\n",
       " array([0.06548431, 0.04661654, 0.0694051 , 0.10025063, 0.07386364,\n",
       "        0.03345455, 0.03960396, 0.05098494, 0.05463183, 0.05979073]))"
      ]
     },
     "execution_count": 31,
     "metadata": {},
     "output_type": "execute_result"
    }
   ],
   "source": [
    "#initializing the validator\n",
    "kf = StratifiedKFold(n_splits=10)\n",
    "\n",
    "X = data.iloc[:, :-1].values\n",
    "y = data.iloc[:, -1].values.reshape(-1,1)\n",
    "\n",
    "scaler = preprocessing.StandardScaler()\n",
    "X_standardized = scaler.fit_transform(X)\n",
    "\n",
    "def score_model(cv=None):\n",
    "    \"\"\"\n",
    "    Creates folds manually, and upsamples within each fold.\n",
    "    Returns an array of validation (recall) scores\n",
    "    \"\"\"\n",
    "    if cv is None:\n",
    "        cv = KFold(n_splits=10, shuffle = False)\n",
    "\n",
    "    smoter = SMOTETomek(random_state=1)\n",
    "    \n",
    "    recalllscore = []\n",
    "    precisionnscore = []\n",
    "    accuracyy = []\n",
    "    f1scoree = []\n",
    "\n",
    "    for train_fold_index, val_fold_index in cv.split(X_standardized, y):\n",
    "        # Get the training data\n",
    "        X_train_fold, y_train_fold = X_standardized[train_fold_index], y[train_fold_index]\n",
    "        # Get the validation data\n",
    "        X_val_fold, y_val_fold = X_standardized[val_fold_index], y[val_fold_index]\n",
    "\n",
    "        # Upsample only the data in the training section\n",
    "        X_train_fold_upsample, y_train_fold_upsample = smoter.fit_resample(X_train_fold, y_train_fold)\n",
    "        # Fit the model on the upsampled training data\n",
    "        model_obj = LogisticRegression(random_state = 0).fit(X_train_fold_upsample, y_train_fold_upsample)\n",
    "        # Score the model on the (non-upsampled) validation data\n",
    "        recallscore = recall_score(y_val_fold, model_obj.predict(X_val_fold))\n",
    "        precisionscore = precision_score(y_val_fold, model_obj.predict(X_val_fold))\n",
    "        accuracy = model_obj.score(X_val_fold, y_val_fold )\n",
    "        f1score = f1_score(y_val_fold, model_obj.predict(X_val_fold))\n",
    "        accuracyy.append(accuracy)\n",
    "        f1scoree.append(f1score)\n",
    "        recalllscore.append(recallscore)\n",
    "        precisionnscore.append(precisionscore)\n",
    "    return np.array(accuracyy), np.array(f1scoree), np.array(recalllscore), np.array(precisionnscore) \n",
    "\n",
    "# Example of the model in action\n",
    "score_model(cv=kf)"
   ]
  },
  {
   "cell_type": "code",
   "execution_count": 32,
   "metadata": {},
   "outputs": [
    {
     "name": "stdout",
     "output_type": "stream",
     "text": [
      "Requirement already satisfied: statsmodels in c:\\users\\user\\ml-spring-2023\\lib\\site-packages (0.13.5)\n",
      "Requirement already satisfied: numpy>=1.17 in c:\\users\\user\\ml-spring-2023\\lib\\site-packages (from statsmodels) (1.24.1)\n",
      "Requirement already satisfied: patsy>=0.5.2 in c:\\users\\user\\ml-spring-2023\\lib\\site-packages (from statsmodels) (0.5.3)\n",
      "Requirement already satisfied: scipy>=1.3 in c:\\users\\user\\ml-spring-2023\\lib\\site-packages (from statsmodels) (1.10.0)\n",
      "Requirement already satisfied: packaging>=21.3 in c:\\users\\user\\ml-spring-2023\\lib\\site-packages (from statsmodels) (23.0)\n",
      "Requirement already satisfied: pandas>=0.25 in c:\\users\\user\\ml-spring-2023\\lib\\site-packages (from statsmodels) (1.5.2)\n",
      "Requirement already satisfied: python-dateutil>=2.8.1 in c:\\users\\user\\ml-spring-2023\\lib\\site-packages (from pandas>=0.25->statsmodels) (2.8.2)\n",
      "Requirement already satisfied: pytz>=2020.1 in c:\\users\\user\\ml-spring-2023\\lib\\site-packages (from pandas>=0.25->statsmodels) (2022.7.1)\n",
      "Requirement already satisfied: six in c:\\users\\user\\ml-spring-2023\\lib\\site-packages (from patsy>=0.5.2->statsmodels) (1.16.0)\n",
      "Note: you may need to restart the kernel to use updated packages.\n"
     ]
    }
   ],
   "source": [
    "pip install statsmodels"
   ]
  },
  {
   "cell_type": "markdown",
   "metadata": {},
   "source": [
    "Logistic Regression to see important variables"
   ]
  },
  {
   "cell_type": "code",
   "execution_count": 40,
   "metadata": {},
   "outputs": [],
   "source": [
    "import statsmodels.formula.api as smf"
   ]
  },
  {
   "cell_type": "code",
   "execution_count": 46,
   "metadata": {},
   "outputs": [
    {
     "name": "stdout",
     "output_type": "stream",
     "text": [
      "The first 5 rows in the dataset are : \n",
      "       V1     V2     V3     V4     V5     V6     V7     V8     V9    V10  ...    V21    V22    V23    V24    V25    V26    V27    V28  Amount  Class\n",
      "0  0.011  0.672 -0.939 -0.346  0.737 -0.194  0.536  0.250 -0.456 -0.962  ...  0.451  1.243 -0.406 -2.384 -0.307 -0.188 -0.038  0.056  -0.201      0\n",
      "1 -0.172  0.668  0.842  0.047 -0.018 -0.745  0.545 -0.034 -0.273 -0.454  ... -0.371 -1.020 -0.018  0.516 -0.347  0.155  0.595  0.299  -0.346      0\n",
      "2 -0.127  0.499  0.125 -0.508  0.153 -0.617  0.617  0.069  0.177  0.106  ... -0.344 -0.844  0.179 -0.081 -1.081  0.275  0.842  0.438  -0.320      0\n",
      "3 -0.020  0.353 -0.098 -0.417  0.744 -0.047  0.636 -0.005 -0.013 -0.327  ... -0.251 -0.699 -0.011 -2.006 -0.702 -1.115 -0.090  0.136  -0.316      0\n",
      "4 -2.471  2.030 -2.061 -0.159 -1.545 -0.936 -1.129  1.885  0.135  0.184  ...  0.246 -0.416  0.829 -0.030 -1.701  0.060 -6.562 -1.719  -0.235      0\n",
      "\n",
      "[5 rows x 30 columns]\n",
      "\n",
      "\n",
      "The shape of the data is : (426472, 30)\n",
      "The shape of the data is : (71202, 30)\n"
     ]
    }
   ],
   "source": [
    "\n",
    "data_train = pd.read_csv(\"SMOTE_TRAIN.csv\", index_col=0)\n",
    "data_test = pd.read_csv(\"test.csv\", index_col=0)\n",
    "print(\"The first 5 rows in the dataset are :\", \"\\n\", data_train.head())\n",
    "print(\"\\n\")\n",
    "print(\"The shape of the data is :\", str(data_train.shape))\n",
    "print(\"The shape of the data is :\", str(data_test.shape))\n"
   ]
  },
  {
   "cell_type": "code",
   "execution_count": 43,
   "metadata": {},
   "outputs": [
    {
     "name": "stdout",
     "output_type": "stream",
     "text": [
      "(497674, 31)\n"
     ]
    }
   ],
   "source": [
    "data = pd.concat([data_train, data_test], ignore_index = True)\n",
    "print(data.shape)"
   ]
  },
  {
   "cell_type": "code",
   "execution_count": 47,
   "metadata": {},
   "outputs": [
    {
     "name": "stdout",
     "output_type": "stream",
     "text": [
      "<class 'pandas.core.frame.DataFrame'>\n",
      "RangeIndex: 497674 entries, 0 to 497673\n",
      "Data columns (total 31 columns):\n",
      " #   Column      Non-Null Count   Dtype  \n",
      "---  ------      --------------   -----  \n",
      " 0   Unnamed: 0  497674 non-null  int64  \n",
      " 1   V1          497674 non-null  float64\n",
      " 2   V2          497674 non-null  float64\n",
      " 3   V3          497674 non-null  float64\n",
      " 4   V4          497674 non-null  float64\n",
      " 5   V5          497674 non-null  float64\n",
      " 6   V6          497674 non-null  float64\n",
      " 7   V7          497674 non-null  float64\n",
      " 8   V8          497674 non-null  float64\n",
      " 9   V9          497674 non-null  float64\n",
      " 10  V10         497674 non-null  float64\n",
      " 11  V11         497674 non-null  float64\n",
      " 12  V12         497674 non-null  float64\n",
      " 13  V13         497674 non-null  float64\n",
      " 14  V14         497674 non-null  float64\n",
      " 15  V15         497674 non-null  float64\n",
      " 16  V16         497674 non-null  float64\n",
      " 17  V17         497674 non-null  float64\n",
      " 18  V18         497674 non-null  float64\n",
      " 19  V19         497674 non-null  float64\n",
      " 20  V20         497674 non-null  float64\n",
      " 21  V21         497674 non-null  float64\n",
      " 22  V22         497674 non-null  float64\n",
      " 23  V23         497674 non-null  float64\n",
      " 24  V24         497674 non-null  float64\n",
      " 25  V25         497674 non-null  float64\n",
      " 26  V26         497674 non-null  float64\n",
      " 27  V27         497674 non-null  float64\n",
      " 28  V28         497674 non-null  float64\n",
      " 29  Amount      497674 non-null  float64\n",
      " 30  Class       497674 non-null  int64  \n",
      "dtypes: float64(29), int64(2)\n",
      "memory usage: 117.7 MB\n"
     ]
    }
   ],
   "source": [
    "data.info()"
   ]
  },
  {
   "cell_type": "code",
   "execution_count": 48,
   "metadata": {},
   "outputs": [],
   "source": [
    "X = data_train.iloc[:,:-1].values\n",
    "y = data_train.iloc[:,-1].values.reshape(-1)\n",
    "X_test = data_test.iloc[:,:-1].values\n",
    "y_test = data_test.iloc[:,-1].values.reshape(-1)"
   ]
  },
  {
   "cell_type": "code",
   "execution_count": 51,
   "metadata": {},
   "outputs": [
    {
     "name": "stdout",
     "output_type": "stream",
     "text": [
      "(426472, 29)\n"
     ]
    }
   ],
   "source": [
    "print(X.shape)"
   ]
  },
  {
   "cell_type": "code",
   "execution_count": 52,
   "metadata": {},
   "outputs": [
    {
     "name": "stdout",
     "output_type": "stream",
     "text": [
      "Optimization terminated successfully.\n",
      "         Current function value: 0.144404\n",
      "         Iterations 14\n"
     ]
    }
   ],
   "source": [
    "logreg1 = smf.logit('y ~ X', data_train).fit()"
   ]
  },
  {
   "cell_type": "code",
   "execution_count": 53,
   "metadata": {},
   "outputs": [
    {
     "data": {
      "text/html": [
       "<table class=\"simpletable\">\n",
       "<caption>Logit Regression Results</caption>\n",
       "<tr>\n",
       "  <th>Dep. Variable:</th>           <td>y</td>        <th>  No. Observations:  </th>   <td>426472</td>   \n",
       "</tr>\n",
       "<tr>\n",
       "  <th>Model:</th>                 <td>Logit</td>      <th>  Df Residuals:      </th>   <td>426442</td>   \n",
       "</tr>\n",
       "<tr>\n",
       "  <th>Method:</th>                 <td>MLE</td>       <th>  Df Model:          </th>   <td>    29</td>   \n",
       "</tr>\n",
       "<tr>\n",
       "  <th>Date:</th>            <td>Sat, 18 Mar 2023</td> <th>  Pseudo R-squ.:     </th>   <td>0.7917</td>   \n",
       "</tr>\n",
       "<tr>\n",
       "  <th>Time:</th>                <td>00:43:34</td>     <th>  Log-Likelihood:    </th>  <td> -61584.</td>  \n",
       "</tr>\n",
       "<tr>\n",
       "  <th>converged:</th>             <td>True</td>       <th>  LL-Null:           </th> <td>-2.9561e+05</td>\n",
       "</tr>\n",
       "<tr>\n",
       "  <th>Covariance Type:</th>     <td>nonrobust</td>    <th>  LLR p-value:       </th>   <td> 0.000</td>   \n",
       "</tr>\n",
       "</table>\n",
       "<table class=\"simpletable\">\n",
       "<tr>\n",
       "      <td></td>         <th>coef</th>     <th>std err</th>      <th>z</th>      <th>P>|z|</th>  <th>[0.025</th>    <th>0.975]</th>  \n",
       "</tr>\n",
       "<tr>\n",
       "  <th>Intercept</th> <td>   -3.3552</td> <td>    0.015</td> <td> -229.958</td> <td> 0.000</td> <td>   -3.384</td> <td>   -3.327</td>\n",
       "</tr>\n",
       "<tr>\n",
       "  <th>X[0]</th>      <td>    1.3369</td> <td>    0.040</td> <td>   33.384</td> <td> 0.000</td> <td>    1.258</td> <td>    1.415</td>\n",
       "</tr>\n",
       "<tr>\n",
       "  <th>X[1]</th>      <td>    0.9143</td> <td>    0.061</td> <td>   15.109</td> <td> 0.000</td> <td>    0.796</td> <td>    1.033</td>\n",
       "</tr>\n",
       "<tr>\n",
       "  <th>X[2]</th>      <td>    0.6347</td> <td>    0.025</td> <td>   25.640</td> <td> 0.000</td> <td>    0.586</td> <td>    0.683</td>\n",
       "</tr>\n",
       "<tr>\n",
       "  <th>X[3]</th>      <td>    1.0687</td> <td>    0.015</td> <td>   73.272</td> <td> 0.000</td> <td>    1.040</td> <td>    1.097</td>\n",
       "</tr>\n",
       "<tr>\n",
       "  <th>X[4]</th>      <td>    1.0394</td> <td>    0.036</td> <td>   28.565</td> <td> 0.000</td> <td>    0.968</td> <td>    1.111</td>\n",
       "</tr>\n",
       "<tr>\n",
       "  <th>X[5]</th>      <td>   -0.7043</td> <td>    0.022</td> <td>  -32.205</td> <td> 0.000</td> <td>   -0.747</td> <td>   -0.661</td>\n",
       "</tr>\n",
       "<tr>\n",
       "  <th>X[6]</th>      <td>   -0.6364</td> <td>    0.040</td> <td>  -15.890</td> <td> 0.000</td> <td>   -0.715</td> <td>   -0.558</td>\n",
       "</tr>\n",
       "<tr>\n",
       "  <th>X[7]</th>      <td>   -0.4932</td> <td>    0.013</td> <td>  -36.917</td> <td> 0.000</td> <td>   -0.519</td> <td>   -0.467</td>\n",
       "</tr>\n",
       "<tr>\n",
       "  <th>X[8]</th>      <td>   -0.3636</td> <td>    0.014</td> <td>  -26.560</td> <td> 0.000</td> <td>   -0.390</td> <td>   -0.337</td>\n",
       "</tr>\n",
       "<tr>\n",
       "  <th>X[9]</th>      <td>   -0.9867</td> <td>    0.019</td> <td>  -51.445</td> <td> 0.000</td> <td>   -1.024</td> <td>   -0.949</td>\n",
       "</tr>\n",
       "<tr>\n",
       "  <th>X[10]</th>     <td>    0.7011</td> <td>    0.011</td> <td>   61.060</td> <td> 0.000</td> <td>    0.679</td> <td>    0.724</td>\n",
       "</tr>\n",
       "<tr>\n",
       "  <th>X[11]</th>     <td>   -1.0902</td> <td>    0.017</td> <td>  -64.386</td> <td> 0.000</td> <td>   -1.123</td> <td>   -1.057</td>\n",
       "</tr>\n",
       "<tr>\n",
       "  <th>X[12]</th>     <td>   -0.2794</td> <td>    0.008</td> <td>  -34.479</td> <td> 0.000</td> <td>   -0.295</td> <td>   -0.263</td>\n",
       "</tr>\n",
       "<tr>\n",
       "  <th>X[13]</th>     <td>   -1.5070</td> <td>    0.019</td> <td>  -79.852</td> <td> 0.000</td> <td>   -1.544</td> <td>   -1.470</td>\n",
       "</tr>\n",
       "<tr>\n",
       "  <th>X[14]</th>     <td>    0.0649</td> <td>    0.008</td> <td>    8.099</td> <td> 0.000</td> <td>    0.049</td> <td>    0.081</td>\n",
       "</tr>\n",
       "<tr>\n",
       "  <th>X[15]</th>     <td>   -0.5771</td> <td>    0.016</td> <td>  -36.803</td> <td> 0.000</td> <td>   -0.608</td> <td>   -0.546</td>\n",
       "</tr>\n",
       "<tr>\n",
       "  <th>X[16]</th>     <td>   -0.8619</td> <td>    0.021</td> <td>  -41.809</td> <td> 0.000</td> <td>   -0.902</td> <td>   -0.821</td>\n",
       "</tr>\n",
       "<tr>\n",
       "  <th>X[17]</th>     <td>   -0.3071</td> <td>    0.012</td> <td>  -25.160</td> <td> 0.000</td> <td>   -0.331</td> <td>   -0.283</td>\n",
       "</tr>\n",
       "<tr>\n",
       "  <th>X[18]</th>     <td>    0.2521</td> <td>    0.011</td> <td>   23.839</td> <td> 0.000</td> <td>    0.231</td> <td>    0.273</td>\n",
       "</tr>\n",
       "<tr>\n",
       "  <th>X[19]</th>     <td>   -0.5455</td> <td>    0.025</td> <td>  -22.197</td> <td> 0.000</td> <td>   -0.594</td> <td>   -0.497</td>\n",
       "</tr>\n",
       "<tr>\n",
       "  <th>X[20]</th>     <td>   -0.0837</td> <td>    0.011</td> <td>   -7.912</td> <td> 0.000</td> <td>   -0.104</td> <td>   -0.063</td>\n",
       "</tr>\n",
       "<tr>\n",
       "  <th>X[21]</th>     <td>    0.3503</td> <td>    0.012</td> <td>   30.425</td> <td> 0.000</td> <td>    0.328</td> <td>    0.373</td>\n",
       "</tr>\n",
       "<tr>\n",
       "  <th>X[22]</th>     <td>    0.3376</td> <td>    0.019</td> <td>   17.337</td> <td> 0.000</td> <td>    0.299</td> <td>    0.376</td>\n",
       "</tr>\n",
       "<tr>\n",
       "  <th>X[23]</th>     <td>    0.0351</td> <td>    0.009</td> <td>    3.724</td> <td> 0.000</td> <td>    0.017</td> <td>    0.053</td>\n",
       "</tr>\n",
       "<tr>\n",
       "  <th>X[24]</th>     <td>    0.0468</td> <td>    0.010</td> <td>    4.772</td> <td> 0.000</td> <td>    0.028</td> <td>    0.066</td>\n",
       "</tr>\n",
       "<tr>\n",
       "  <th>X[25]</th>     <td>   -0.1936</td> <td>    0.009</td> <td>  -21.289</td> <td> 0.000</td> <td>   -0.211</td> <td>   -0.176</td>\n",
       "</tr>\n",
       "<tr>\n",
       "  <th>X[26]</th>     <td>    0.0324</td> <td>    0.012</td> <td>    2.754</td> <td> 0.006</td> <td>    0.009</td> <td>    0.055</td>\n",
       "</tr>\n",
       "<tr>\n",
       "  <th>X[27]</th>     <td>    0.2549</td> <td>    0.013</td> <td>   19.757</td> <td> 0.000</td> <td>    0.230</td> <td>    0.280</td>\n",
       "</tr>\n",
       "<tr>\n",
       "  <th>X[28]</th>     <td>    1.9624</td> <td>    0.088</td> <td>   22.334</td> <td> 0.000</td> <td>    1.790</td> <td>    2.135</td>\n",
       "</tr>\n",
       "</table><br/><br/>Possibly complete quasi-separation: A fraction 0.42 of observations can be<br/>perfectly predicted. This might indicate that there is complete<br/>quasi-separation. In this case some parameters will not be identified."
      ],
      "text/plain": [
       "<class 'statsmodels.iolib.summary.Summary'>\n",
       "\"\"\"\n",
       "                           Logit Regression Results                           \n",
       "==============================================================================\n",
       "Dep. Variable:                      y   No. Observations:               426472\n",
       "Model:                          Logit   Df Residuals:                   426442\n",
       "Method:                           MLE   Df Model:                           29\n",
       "Date:                Sat, 18 Mar 2023   Pseudo R-squ.:                  0.7917\n",
       "Time:                        00:43:34   Log-Likelihood:                -61584.\n",
       "converged:                       True   LL-Null:                   -2.9561e+05\n",
       "Covariance Type:            nonrobust   LLR p-value:                     0.000\n",
       "==============================================================================\n",
       "                 coef    std err          z      P>|z|      [0.025      0.975]\n",
       "------------------------------------------------------------------------------\n",
       "Intercept     -3.3552      0.015   -229.958      0.000      -3.384      -3.327\n",
       "X[0]           1.3369      0.040     33.384      0.000       1.258       1.415\n",
       "X[1]           0.9143      0.061     15.109      0.000       0.796       1.033\n",
       "X[2]           0.6347      0.025     25.640      0.000       0.586       0.683\n",
       "X[3]           1.0687      0.015     73.272      0.000       1.040       1.097\n",
       "X[4]           1.0394      0.036     28.565      0.000       0.968       1.111\n",
       "X[5]          -0.7043      0.022    -32.205      0.000      -0.747      -0.661\n",
       "X[6]          -0.6364      0.040    -15.890      0.000      -0.715      -0.558\n",
       "X[7]          -0.4932      0.013    -36.917      0.000      -0.519      -0.467\n",
       "X[8]          -0.3636      0.014    -26.560      0.000      -0.390      -0.337\n",
       "X[9]          -0.9867      0.019    -51.445      0.000      -1.024      -0.949\n",
       "X[10]          0.7011      0.011     61.060      0.000       0.679       0.724\n",
       "X[11]         -1.0902      0.017    -64.386      0.000      -1.123      -1.057\n",
       "X[12]         -0.2794      0.008    -34.479      0.000      -0.295      -0.263\n",
       "X[13]         -1.5070      0.019    -79.852      0.000      -1.544      -1.470\n",
       "X[14]          0.0649      0.008      8.099      0.000       0.049       0.081\n",
       "X[15]         -0.5771      0.016    -36.803      0.000      -0.608      -0.546\n",
       "X[16]         -0.8619      0.021    -41.809      0.000      -0.902      -0.821\n",
       "X[17]         -0.3071      0.012    -25.160      0.000      -0.331      -0.283\n",
       "X[18]          0.2521      0.011     23.839      0.000       0.231       0.273\n",
       "X[19]         -0.5455      0.025    -22.197      0.000      -0.594      -0.497\n",
       "X[20]         -0.0837      0.011     -7.912      0.000      -0.104      -0.063\n",
       "X[21]          0.3503      0.012     30.425      0.000       0.328       0.373\n",
       "X[22]          0.3376      0.019     17.337      0.000       0.299       0.376\n",
       "X[23]          0.0351      0.009      3.724      0.000       0.017       0.053\n",
       "X[24]          0.0468      0.010      4.772      0.000       0.028       0.066\n",
       "X[25]         -0.1936      0.009    -21.289      0.000      -0.211      -0.176\n",
       "X[26]          0.0324      0.012      2.754      0.006       0.009       0.055\n",
       "X[27]          0.2549      0.013     19.757      0.000       0.230       0.280\n",
       "X[28]          1.9624      0.088     22.334      0.000       1.790       2.135\n",
       "==============================================================================\n",
       "\n",
       "Possibly complete quasi-separation: A fraction 0.42 of observations can be\n",
       "perfectly predicted. This might indicate that there is complete\n",
       "quasi-separation. In this case some parameters will not be identified.\n",
       "\"\"\""
      ]
     },
     "execution_count": 53,
     "metadata": {},
     "output_type": "execute_result"
    }
   ],
   "source": [
    "logreg1.summary()"
   ]
  },
  {
   "cell_type": "code",
   "execution_count": 54,
   "metadata": {},
   "outputs": [
    {
     "data": {
      "text/plain": [
       "array([[208008.,   5228.],\n",
       "       [ 19459., 193777.]])"
      ]
     },
     "execution_count": 54,
     "metadata": {},
     "output_type": "execute_result"
    }
   ],
   "source": [
    "logreg1.pred_table()"
   ]
  },
  {
   "cell_type": "code",
   "execution_count": 55,
   "metadata": {},
   "outputs": [
    {
     "name": "stdout",
     "output_type": "stream",
     "text": [
      "The accuracy of the Logistic regression model on the SMOTE TOMEK Oversampled training data is : 0.9418836406610516\n",
      "The accuracy of the Logistic regression model on the test data is : 0.9753939496081571\n"
     ]
    },
    {
     "name": "stderr",
     "output_type": "stream",
     "text": [
      "c:\\users\\user\\ml-spring-2023\\lib\\site-packages\\sklearn\\linear_model\\_sag.py:350: ConvergenceWarning: The max_iter was reached which means the coef_ did not converge\n",
      "  warnings.warn(\n"
     ]
    }
   ],
   "source": [
    "clf_smt = LogisticRegression(solver = 'saga', penalty = 'elasticnet', l1_ratio = 0.5, random_state=0).fit(X, y)\n",
    "PREDICTIONS_smt_train = clf_smt.predict(X)\n",
    "PREDICTIONS_smt_test = clf_smt.predict(X_test)\n",
    "print(\"The accuracy of the Logistic regression model on the SMOTE TOMEK Oversampled training data is :\", clf_smt.score(X, y))\n",
    "print(\"The accuracy of the Logistic regression model on the test data is :\", clf_smt.score(X_test, y_test))"
   ]
  },
  {
   "cell_type": "markdown",
   "metadata": {},
   "source": [
    "Creating a dataset of the most important variables"
   ]
  },
  {
   "cell_type": "code",
   "execution_count": 56,
   "metadata": {},
   "outputs": [],
   "source": [
    "clf_smt.coef_\n",
    "columns = list(data_train.columns.values)\n",
    "columns.remove('Class')\n",
    "coef_df = pd.DataFrame(clf_smt.coef_, columns = columns)"
   ]
  },
  {
   "cell_type": "code",
   "execution_count": 57,
   "metadata": {},
   "outputs": [
    {
     "data": {
      "text/html": [
       "<div>\n",
       "<style scoped>\n",
       "    .dataframe tbody tr th:only-of-type {\n",
       "        vertical-align: middle;\n",
       "    }\n",
       "\n",
       "    .dataframe tbody tr th {\n",
       "        vertical-align: top;\n",
       "    }\n",
       "\n",
       "    .dataframe thead th {\n",
       "        text-align: right;\n",
       "    }\n",
       "</style>\n",
       "<table border=\"1\" class=\"dataframe\">\n",
       "  <thead>\n",
       "    <tr style=\"text-align: right;\">\n",
       "      <th></th>\n",
       "      <th>0</th>\n",
       "    </tr>\n",
       "  </thead>\n",
       "  <tbody>\n",
       "    <tr>\n",
       "      <th>V1</th>\n",
       "      <td>0.851</td>\n",
       "    </tr>\n",
       "    <tr>\n",
       "      <th>V2</th>\n",
       "      <td>0.122</td>\n",
       "    </tr>\n",
       "    <tr>\n",
       "      <th>V3</th>\n",
       "      <td>0.323</td>\n",
       "    </tr>\n",
       "    <tr>\n",
       "      <th>V4</th>\n",
       "      <td>1.196</td>\n",
       "    </tr>\n",
       "    <tr>\n",
       "      <th>V5</th>\n",
       "      <td>0.566</td>\n",
       "    </tr>\n",
       "    <tr>\n",
       "      <th>...</th>\n",
       "      <td>...</td>\n",
       "    </tr>\n",
       "    <tr>\n",
       "      <th>V25</th>\n",
       "      <td>-0.025</td>\n",
       "    </tr>\n",
       "    <tr>\n",
       "      <th>V26</th>\n",
       "      <td>-0.204</td>\n",
       "    </tr>\n",
       "    <tr>\n",
       "      <th>V27</th>\n",
       "      <td>0.097</td>\n",
       "    </tr>\n",
       "    <tr>\n",
       "      <th>V28</th>\n",
       "      <td>0.159</td>\n",
       "    </tr>\n",
       "    <tr>\n",
       "      <th>Amount</th>\n",
       "      <td>0.781</td>\n",
       "    </tr>\n",
       "  </tbody>\n",
       "</table>\n",
       "<p>29 rows × 1 columns</p>\n",
       "</div>"
      ],
      "text/plain": [
       "            0\n",
       "V1      0.851\n",
       "V2      0.122\n",
       "V3      0.323\n",
       "V4      1.196\n",
       "V5      0.566\n",
       "...       ...\n",
       "V25    -0.025\n",
       "V26    -0.204\n",
       "V27     0.097\n",
       "V28     0.159\n",
       "Amount  0.781\n",
       "\n",
       "[29 rows x 1 columns]"
      ]
     },
     "execution_count": 57,
     "metadata": {},
     "output_type": "execute_result"
    }
   ],
   "source": [
    "coef_df.transpose()"
   ]
  },
  {
   "cell_type": "code",
   "execution_count": 58,
   "metadata": {},
   "outputs": [],
   "source": [
    "#saving as a csv file\n",
    "coef_df.transpose().to_csv(\"coef_df.csv\")"
   ]
  },
  {
   "cell_type": "code",
   "execution_count": 59,
   "metadata": {},
   "outputs": [],
   "source": [
    "from sklearn.feature_selection import f_classif\n",
    "features = f_classif(X,y)"
   ]
  },
  {
   "cell_type": "code",
   "execution_count": 60,
   "metadata": {},
   "outputs": [
    {
     "data": {
      "text/plain": [
       "(array([9.01769582e+04, 1.49936732e+05, 1.94895878e+05, 4.26363035e+05,\n",
       "        7.55719208e+04, 9.26432003e+04, 1.28926322e+05, 1.77114541e+03,\n",
       "        2.02579697e+05, 2.88017698e+05, 4.13781115e+05, 3.66331766e+05,\n",
       "        1.24637314e+03, 5.98819181e+05, 2.18871820e+02, 2.34157747e+05,\n",
       "        1.94768765e+05, 1.21626135e+05, 3.52858526e+04, 1.56903020e+04,\n",
       "        7.99292152e+03, 5.17418421e+01, 1.31436062e+02, 2.83301711e+03,\n",
       "        2.40453475e+03, 1.64727960e+03, 3.48186608e+03, 4.82565217e+03,\n",
       "        2.43063664e+02]),\n",
       " array([0.00000000e+000, 0.00000000e+000, 0.00000000e+000, 0.00000000e+000,\n",
       "        0.00000000e+000, 0.00000000e+000, 0.00000000e+000, 0.00000000e+000,\n",
       "        0.00000000e+000, 0.00000000e+000, 0.00000000e+000, 0.00000000e+000,\n",
       "        1.26657565e-272, 0.00000000e+000, 1.63973654e-049, 0.00000000e+000,\n",
       "        0.00000000e+000, 0.00000000e+000, 0.00000000e+000, 0.00000000e+000,\n",
       "        0.00000000e+000, 6.34025140e-013, 2.00828215e-030, 0.00000000e+000,\n",
       "        0.00000000e+000, 0.00000000e+000, 0.00000000e+000, 0.00000000e+000,\n",
       "        8.74713859e-055]))"
      ]
     },
     "execution_count": 60,
     "metadata": {},
     "output_type": "execute_result"
    }
   ],
   "source": [
    "features"
   ]
  },
  {
   "cell_type": "code",
   "execution_count": 61,
   "metadata": {},
   "outputs": [
    {
     "data": {
      "text/html": [
       "<div>\n",
       "<style scoped>\n",
       "    .dataframe tbody tr th:only-of-type {\n",
       "        vertical-align: middle;\n",
       "    }\n",
       "\n",
       "    .dataframe tbody tr th {\n",
       "        vertical-align: top;\n",
       "    }\n",
       "\n",
       "    .dataframe thead th {\n",
       "        text-align: right;\n",
       "    }\n",
       "</style>\n",
       "<table border=\"1\" class=\"dataframe\">\n",
       "  <thead>\n",
       "    <tr style=\"text-align: right;\">\n",
       "      <th></th>\n",
       "      <th>Unnamed: 0</th>\n",
       "      <th>V1</th>\n",
       "      <th>V2</th>\n",
       "      <th>V3</th>\n",
       "      <th>V4</th>\n",
       "      <th>V5</th>\n",
       "      <th>V6</th>\n",
       "      <th>V7</th>\n",
       "      <th>V8</th>\n",
       "      <th>V9</th>\n",
       "      <th>...</th>\n",
       "      <th>V18</th>\n",
       "      <th>V19</th>\n",
       "      <th>V20</th>\n",
       "      <th>V21</th>\n",
       "      <th>V22</th>\n",
       "      <th>V23</th>\n",
       "      <th>V24</th>\n",
       "      <th>V25</th>\n",
       "      <th>V26</th>\n",
       "      <th>V27</th>\n",
       "    </tr>\n",
       "  </thead>\n",
       "  <tbody>\n",
       "    <tr>\n",
       "      <th>0</th>\n",
       "      <td>0</td>\n",
       "      <td>0.011</td>\n",
       "      <td>0.672</td>\n",
       "      <td>-0.939</td>\n",
       "      <td>-0.346</td>\n",
       "      <td>0.737</td>\n",
       "      <td>-0.194</td>\n",
       "      <td>0.536</td>\n",
       "      <td>0.250</td>\n",
       "      <td>-0.456</td>\n",
       "      <td>...</td>\n",
       "      <td>1.943</td>\n",
       "      <td>0.741</td>\n",
       "      <td>-0.099</td>\n",
       "      <td>0.451</td>\n",
       "      <td>1.243</td>\n",
       "      <td>-0.406</td>\n",
       "      <td>-2.384</td>\n",
       "      <td>-0.307</td>\n",
       "      <td>-0.188</td>\n",
       "      <td>-0.038</td>\n",
       "    </tr>\n",
       "    <tr>\n",
       "      <th>1</th>\n",
       "      <td>1</td>\n",
       "      <td>-0.172</td>\n",
       "      <td>0.668</td>\n",
       "      <td>0.842</td>\n",
       "      <td>0.047</td>\n",
       "      <td>-0.018</td>\n",
       "      <td>-0.745</td>\n",
       "      <td>0.545</td>\n",
       "      <td>-0.034</td>\n",
       "      <td>-0.273</td>\n",
       "      <td>...</td>\n",
       "      <td>-0.073</td>\n",
       "      <td>-0.105</td>\n",
       "      <td>0.097</td>\n",
       "      <td>-0.371</td>\n",
       "      <td>-1.020</td>\n",
       "      <td>-0.018</td>\n",
       "      <td>0.516</td>\n",
       "      <td>-0.347</td>\n",
       "      <td>0.155</td>\n",
       "      <td>0.595</td>\n",
       "    </tr>\n",
       "    <tr>\n",
       "      <th>2</th>\n",
       "      <td>2</td>\n",
       "      <td>-0.127</td>\n",
       "      <td>0.499</td>\n",
       "      <td>0.125</td>\n",
       "      <td>-0.508</td>\n",
       "      <td>0.153</td>\n",
       "      <td>-0.617</td>\n",
       "      <td>0.617</td>\n",
       "      <td>0.069</td>\n",
       "      <td>0.177</td>\n",
       "      <td>...</td>\n",
       "      <td>-0.155</td>\n",
       "      <td>0.105</td>\n",
       "      <td>-0.054</td>\n",
       "      <td>-0.344</td>\n",
       "      <td>-0.844</td>\n",
       "      <td>0.179</td>\n",
       "      <td>-0.081</td>\n",
       "      <td>-1.081</td>\n",
       "      <td>0.275</td>\n",
       "      <td>0.842</td>\n",
       "    </tr>\n",
       "    <tr>\n",
       "      <th>3</th>\n",
       "      <td>3</td>\n",
       "      <td>-0.020</td>\n",
       "      <td>0.353</td>\n",
       "      <td>-0.098</td>\n",
       "      <td>-0.417</td>\n",
       "      <td>0.744</td>\n",
       "      <td>-0.047</td>\n",
       "      <td>0.636</td>\n",
       "      <td>-0.005</td>\n",
       "      <td>-0.013</td>\n",
       "      <td>...</td>\n",
       "      <td>0.470</td>\n",
       "      <td>1.382</td>\n",
       "      <td>-0.234</td>\n",
       "      <td>-0.251</td>\n",
       "      <td>-0.699</td>\n",
       "      <td>-0.011</td>\n",
       "      <td>-2.006</td>\n",
       "      <td>-0.702</td>\n",
       "      <td>-1.115</td>\n",
       "      <td>-0.090</td>\n",
       "    </tr>\n",
       "    <tr>\n",
       "      <th>4</th>\n",
       "      <td>4</td>\n",
       "      <td>-2.471</td>\n",
       "      <td>2.030</td>\n",
       "      <td>-2.061</td>\n",
       "      <td>-0.159</td>\n",
       "      <td>-1.545</td>\n",
       "      <td>-0.936</td>\n",
       "      <td>-1.129</td>\n",
       "      <td>1.885</td>\n",
       "      <td>0.135</td>\n",
       "      <td>...</td>\n",
       "      <td>-0.654</td>\n",
       "      <td>0.573</td>\n",
       "      <td>-1.492</td>\n",
       "      <td>0.246</td>\n",
       "      <td>-0.416</td>\n",
       "      <td>0.829</td>\n",
       "      <td>-0.030</td>\n",
       "      <td>-1.701</td>\n",
       "      <td>0.060</td>\n",
       "      <td>-6.562</td>\n",
       "    </tr>\n",
       "  </tbody>\n",
       "</table>\n",
       "<p>5 rows × 28 columns</p>\n",
       "</div>"
      ],
      "text/plain": [
       "   Unnamed: 0     V1     V2     V3     V4     V5     V6     V7     V8     V9  ...    V18    V19    V20    V21    V22    V23    V24    V25    V26    V27\n",
       "0           0  0.011  0.672 -0.939 -0.346  0.737 -0.194  0.536  0.250 -0.456  ...  1.943  0.741 -0.099  0.451  1.243 -0.406 -2.384 -0.307 -0.188 -0.038\n",
       "1           1 -0.172  0.668  0.842  0.047 -0.018 -0.745  0.545 -0.034 -0.273  ... -0.073 -0.105  0.097 -0.371 -1.020 -0.018  0.516 -0.347  0.155  0.595\n",
       "2           2 -0.127  0.499  0.125 -0.508  0.153 -0.617  0.617  0.069  0.177  ... -0.155  0.105 -0.054 -0.344 -0.844  0.179 -0.081 -1.081  0.275  0.842\n",
       "3           3 -0.020  0.353 -0.098 -0.417  0.744 -0.047  0.636 -0.005 -0.013  ...  0.470  1.382 -0.234 -0.251 -0.699 -0.011 -2.006 -0.702 -1.115 -0.090\n",
       "4           4 -2.471  2.030 -2.061 -0.159 -1.545 -0.936 -1.129  1.885  0.135  ... -0.654  0.573 -1.492  0.246 -0.416  0.829 -0.030 -1.701  0.060 -6.562\n",
       "\n",
       "[5 rows x 28 columns]"
      ]
     },
     "execution_count": 61,
     "metadata": {},
     "output_type": "execute_result"
    }
   ],
   "source": [
    "#outlier detection - correlation.\n",
    "#Take only the PCA variables\n",
    "data_V = data.iloc[:, 0:28]\n",
    "data_V.head()"
   ]
  },
  {
   "cell_type": "code",
   "execution_count": 62,
   "metadata": {},
   "outputs": [],
   "source": [
    "#Create the correlation matrix\n",
    "correlation_martix = data_V.corr().round(2)"
   ]
  },
  {
   "cell_type": "code",
   "execution_count": 63,
   "metadata": {},
   "outputs": [
    {
     "data": {
      "text/html": [
       "<div>\n",
       "<style scoped>\n",
       "    .dataframe tbody tr th:only-of-type {\n",
       "        vertical-align: middle;\n",
       "    }\n",
       "\n",
       "    .dataframe tbody tr th {\n",
       "        vertical-align: top;\n",
       "    }\n",
       "\n",
       "    .dataframe thead th {\n",
       "        text-align: right;\n",
       "    }\n",
       "</style>\n",
       "<table border=\"1\" class=\"dataframe\">\n",
       "  <thead>\n",
       "    <tr style=\"text-align: right;\">\n",
       "      <th></th>\n",
       "      <th>Unnamed: 0</th>\n",
       "      <th>V1</th>\n",
       "      <th>V2</th>\n",
       "      <th>V3</th>\n",
       "      <th>V4</th>\n",
       "      <th>V5</th>\n",
       "      <th>V6</th>\n",
       "      <th>V7</th>\n",
       "      <th>V8</th>\n",
       "      <th>V9</th>\n",
       "      <th>...</th>\n",
       "      <th>V21</th>\n",
       "      <th>V22</th>\n",
       "      <th>V23</th>\n",
       "      <th>V24</th>\n",
       "      <th>V25</th>\n",
       "      <th>V26</th>\n",
       "      <th>V27</th>\n",
       "      <th>V28</th>\n",
       "      <th>Amount</th>\n",
       "      <th>Class</th>\n",
       "    </tr>\n",
       "  </thead>\n",
       "  <tbody>\n",
       "    <tr>\n",
       "      <th>Unnamed: 0</th>\n",
       "      <td>1.00</td>\n",
       "      <td>-0.38</td>\n",
       "      <td>0.46</td>\n",
       "      <td>-0.51</td>\n",
       "      <td>0.63</td>\n",
       "      <td>-0.36</td>\n",
       "      <td>-0.37</td>\n",
       "      <td>-0.44</td>\n",
       "      <td>0.06</td>\n",
       "      <td>-0.51</td>\n",
       "      <td>...</td>\n",
       "      <td>0.13</td>\n",
       "      <td>-0.01</td>\n",
       "      <td>0.02</td>\n",
       "      <td>-0.07</td>\n",
       "      <td>0.07</td>\n",
       "      <td>0.05</td>\n",
       "      <td>0.08</td>\n",
       "      <td>0.09</td>\n",
       "      <td>0.02</td>\n",
       "      <td>0.88</td>\n",
       "    </tr>\n",
       "    <tr>\n",
       "      <th>V1</th>\n",
       "      <td>-0.38</td>\n",
       "      <td>1.00</td>\n",
       "      <td>-0.81</td>\n",
       "      <td>0.88</td>\n",
       "      <td>-0.63</td>\n",
       "      <td>0.87</td>\n",
       "      <td>0.32</td>\n",
       "      <td>0.88</td>\n",
       "      <td>-0.09</td>\n",
       "      <td>0.66</td>\n",
       "      <td>...</td>\n",
       "      <td>-0.03</td>\n",
       "      <td>0.00</td>\n",
       "      <td>-0.11</td>\n",
       "      <td>-0.05</td>\n",
       "      <td>-0.13</td>\n",
       "      <td>0.06</td>\n",
       "      <td>0.18</td>\n",
       "      <td>0.16</td>\n",
       "      <td>-0.04</td>\n",
       "      <td>-0.44</td>\n",
       "    </tr>\n",
       "    <tr>\n",
       "      <th>V2</th>\n",
       "      <td>0.46</td>\n",
       "      <td>-0.81</td>\n",
       "      <td>1.00</td>\n",
       "      <td>-0.86</td>\n",
       "      <td>0.69</td>\n",
       "      <td>-0.80</td>\n",
       "      <td>-0.30</td>\n",
       "      <td>-0.86</td>\n",
       "      <td>-0.02</td>\n",
       "      <td>-0.70</td>\n",
       "      <td>...</td>\n",
       "      <td>0.10</td>\n",
       "      <td>-0.06</td>\n",
       "      <td>0.21</td>\n",
       "      <td>-0.01</td>\n",
       "      <td>0.14</td>\n",
       "      <td>-0.02</td>\n",
       "      <td>-0.14</td>\n",
       "      <td>-0.01</td>\n",
       "      <td>-0.25</td>\n",
       "      <td>0.53</td>\n",
       "    </tr>\n",
       "    <tr>\n",
       "      <th>V3</th>\n",
       "      <td>-0.51</td>\n",
       "      <td>0.88</td>\n",
       "      <td>-0.86</td>\n",
       "      <td>1.00</td>\n",
       "      <td>-0.78</td>\n",
       "      <td>0.86</td>\n",
       "      <td>0.46</td>\n",
       "      <td>0.90</td>\n",
       "      <td>-0.17</td>\n",
       "      <td>0.76</td>\n",
       "      <td>...</td>\n",
       "      <td>0.00</td>\n",
       "      <td>-0.04</td>\n",
       "      <td>-0.09</td>\n",
       "      <td>0.02</td>\n",
       "      <td>-0.13</td>\n",
       "      <td>-0.01</td>\n",
       "      <td>0.10</td>\n",
       "      <td>0.12</td>\n",
       "      <td>-0.00</td>\n",
       "      <td>-0.58</td>\n",
       "    </tr>\n",
       "    <tr>\n",
       "      <th>V4</th>\n",
       "      <td>0.63</td>\n",
       "      <td>-0.63</td>\n",
       "      <td>0.69</td>\n",
       "      <td>-0.78</td>\n",
       "      <td>1.00</td>\n",
       "      <td>-0.61</td>\n",
       "      <td>-0.45</td>\n",
       "      <td>-0.72</td>\n",
       "      <td>0.11</td>\n",
       "      <td>-0.79</td>\n",
       "      <td>...</td>\n",
       "      <td>0.01</td>\n",
       "      <td>0.09</td>\n",
       "      <td>0.08</td>\n",
       "      <td>-0.07</td>\n",
       "      <td>0.04</td>\n",
       "      <td>0.13</td>\n",
       "      <td>-0.01</td>\n",
       "      <td>-0.06</td>\n",
       "      <td>-0.01</td>\n",
       "      <td>0.72</td>\n",
       "    </tr>\n",
       "    <tr>\n",
       "      <th>...</th>\n",
       "      <td>...</td>\n",
       "      <td>...</td>\n",
       "      <td>...</td>\n",
       "      <td>...</td>\n",
       "      <td>...</td>\n",
       "      <td>...</td>\n",
       "      <td>...</td>\n",
       "      <td>...</td>\n",
       "      <td>...</td>\n",
       "      <td>...</td>\n",
       "      <td>...</td>\n",
       "      <td>...</td>\n",
       "      <td>...</td>\n",
       "      <td>...</td>\n",
       "      <td>...</td>\n",
       "      <td>...</td>\n",
       "      <td>...</td>\n",
       "      <td>...</td>\n",
       "      <td>...</td>\n",
       "      <td>...</td>\n",
       "      <td>...</td>\n",
       "    </tr>\n",
       "    <tr>\n",
       "      <th>V26</th>\n",
       "      <td>0.05</td>\n",
       "      <td>0.06</td>\n",
       "      <td>-0.02</td>\n",
       "      <td>-0.01</td>\n",
       "      <td>0.13</td>\n",
       "      <td>0.07</td>\n",
       "      <td>-0.07</td>\n",
       "      <td>0.03</td>\n",
       "      <td>0.06</td>\n",
       "      <td>-0.10</td>\n",
       "      <td>...</td>\n",
       "      <td>0.04</td>\n",
       "      <td>-0.01</td>\n",
       "      <td>0.01</td>\n",
       "      <td>-0.11</td>\n",
       "      <td>0.05</td>\n",
       "      <td>1.00</td>\n",
       "      <td>0.20</td>\n",
       "      <td>0.04</td>\n",
       "      <td>-0.04</td>\n",
       "      <td>0.06</td>\n",
       "    </tr>\n",
       "    <tr>\n",
       "      <th>V27</th>\n",
       "      <td>0.08</td>\n",
       "      <td>0.18</td>\n",
       "      <td>-0.14</td>\n",
       "      <td>0.10</td>\n",
       "      <td>-0.01</td>\n",
       "      <td>0.17</td>\n",
       "      <td>-0.15</td>\n",
       "      <td>0.23</td>\n",
       "      <td>0.28</td>\n",
       "      <td>0.13</td>\n",
       "      <td>...</td>\n",
       "      <td>0.38</td>\n",
       "      <td>-0.38</td>\n",
       "      <td>-0.14</td>\n",
       "      <td>-0.17</td>\n",
       "      <td>0.25</td>\n",
       "      <td>0.20</td>\n",
       "      <td>1.00</td>\n",
       "      <td>0.26</td>\n",
       "      <td>0.05</td>\n",
       "      <td>0.09</td>\n",
       "    </tr>\n",
       "    <tr>\n",
       "      <th>V28</th>\n",
       "      <td>0.09</td>\n",
       "      <td>0.16</td>\n",
       "      <td>-0.01</td>\n",
       "      <td>0.12</td>\n",
       "      <td>-0.06</td>\n",
       "      <td>0.15</td>\n",
       "      <td>-0.02</td>\n",
       "      <td>0.14</td>\n",
       "      <td>-0.02</td>\n",
       "      <td>0.14</td>\n",
       "      <td>...</td>\n",
       "      <td>0.32</td>\n",
       "      <td>-0.28</td>\n",
       "      <td>0.03</td>\n",
       "      <td>-0.04</td>\n",
       "      <td>0.17</td>\n",
       "      <td>0.04</td>\n",
       "      <td>0.26</td>\n",
       "      <td>1.00</td>\n",
       "      <td>-0.02</td>\n",
       "      <td>0.11</td>\n",
       "    </tr>\n",
       "    <tr>\n",
       "      <th>Amount</th>\n",
       "      <td>0.02</td>\n",
       "      <td>-0.04</td>\n",
       "      <td>-0.25</td>\n",
       "      <td>-0.00</td>\n",
       "      <td>-0.01</td>\n",
       "      <td>-0.11</td>\n",
       "      <td>0.16</td>\n",
       "      <td>0.13</td>\n",
       "      <td>0.02</td>\n",
       "      <td>0.03</td>\n",
       "      <td>...</td>\n",
       "      <td>0.02</td>\n",
       "      <td>-0.01</td>\n",
       "      <td>-0.09</td>\n",
       "      <td>0.02</td>\n",
       "      <td>-0.05</td>\n",
       "      <td>-0.04</td>\n",
       "      <td>0.05</td>\n",
       "      <td>-0.02</td>\n",
       "      <td>1.00</td>\n",
       "      <td>0.02</td>\n",
       "    </tr>\n",
       "    <tr>\n",
       "      <th>Class</th>\n",
       "      <td>0.88</td>\n",
       "      <td>-0.44</td>\n",
       "      <td>0.53</td>\n",
       "      <td>-0.58</td>\n",
       "      <td>0.72</td>\n",
       "      <td>-0.41</td>\n",
       "      <td>-0.43</td>\n",
       "      <td>-0.51</td>\n",
       "      <td>0.07</td>\n",
       "      <td>-0.58</td>\n",
       "      <td>...</td>\n",
       "      <td>0.14</td>\n",
       "      <td>-0.01</td>\n",
       "      <td>0.02</td>\n",
       "      <td>-0.08</td>\n",
       "      <td>0.08</td>\n",
       "      <td>0.06</td>\n",
       "      <td>0.09</td>\n",
       "      <td>0.11</td>\n",
       "      <td>0.02</td>\n",
       "      <td>1.00</td>\n",
       "    </tr>\n",
       "  </tbody>\n",
       "</table>\n",
       "<p>31 rows × 31 columns</p>\n",
       "</div>"
      ],
      "text/plain": [
       "            Unnamed: 0    V1    V2    V3    V4    V5    V6    V7    V8    V9  ...   V21   V22   V23   V24   V25   V26   V27   V28  Amount  Class\n",
       "Unnamed: 0        1.00 -0.38  0.46 -0.51  0.63 -0.36 -0.37 -0.44  0.06 -0.51  ...  0.13 -0.01  0.02 -0.07  0.07  0.05  0.08  0.09    0.02   0.88\n",
       "V1               -0.38  1.00 -0.81  0.88 -0.63  0.87  0.32  0.88 -0.09  0.66  ... -0.03  0.00 -0.11 -0.05 -0.13  0.06  0.18  0.16   -0.04  -0.44\n",
       "V2                0.46 -0.81  1.00 -0.86  0.69 -0.80 -0.30 -0.86 -0.02 -0.70  ...  0.10 -0.06  0.21 -0.01  0.14 -0.02 -0.14 -0.01   -0.25   0.53\n",
       "V3               -0.51  0.88 -0.86  1.00 -0.78  0.86  0.46  0.90 -0.17  0.76  ...  0.00 -0.04 -0.09  0.02 -0.13 -0.01  0.10  0.12   -0.00  -0.58\n",
       "V4                0.63 -0.63  0.69 -0.78  1.00 -0.61 -0.45 -0.72  0.11 -0.79  ...  0.01  0.09  0.08 -0.07  0.04  0.13 -0.01 -0.06   -0.01   0.72\n",
       "...                ...   ...   ...   ...   ...   ...   ...   ...   ...   ...  ...   ...   ...   ...   ...   ...   ...   ...   ...     ...    ...\n",
       "V26               0.05  0.06 -0.02 -0.01  0.13  0.07 -0.07  0.03  0.06 -0.10  ...  0.04 -0.01  0.01 -0.11  0.05  1.00  0.20  0.04   -0.04   0.06\n",
       "V27               0.08  0.18 -0.14  0.10 -0.01  0.17 -0.15  0.23  0.28  0.13  ...  0.38 -0.38 -0.14 -0.17  0.25  0.20  1.00  0.26    0.05   0.09\n",
       "V28               0.09  0.16 -0.01  0.12 -0.06  0.15 -0.02  0.14 -0.02  0.14  ...  0.32 -0.28  0.03 -0.04  0.17  0.04  0.26  1.00   -0.02   0.11\n",
       "Amount            0.02 -0.04 -0.25 -0.00 -0.01 -0.11  0.16  0.13  0.02  0.03  ...  0.02 -0.01 -0.09  0.02 -0.05 -0.04  0.05 -0.02    1.00   0.02\n",
       "Class             0.88 -0.44  0.53 -0.58  0.72 -0.41 -0.43 -0.51  0.07 -0.58  ...  0.14 -0.01  0.02 -0.08  0.08  0.06  0.09  0.11    0.02   1.00\n",
       "\n",
       "[31 rows x 31 columns]"
      ]
     },
     "execution_count": 63,
     "metadata": {},
     "output_type": "execute_result"
    }
   ],
   "source": [
    "data.corr().round(2)"
   ]
  },
  {
   "cell_type": "code",
   "execution_count": 64,
   "metadata": {},
   "outputs": [
    {
     "data": {
      "image/png": "[encoded data removed]",
      "text/plain": [
       "<Figure size 2000x2000 with 1 Axes>"
      ]
     },
     "metadata": {},
     "output_type": "display_data"
    }
   ],
   "source": [
    "from sklearn.decomposition import PCA\n",
    "pca = PCA().fit(data_V)\n",
    "#Plotting the Cumulative Summation of the Explained Variance\n",
    "\n",
    "plt.figure(figsize=(20,20))\n",
    "plt.plot(np.cumsum(pca.explained_variance_ratio_))\n",
    "plt.xlabel('Number of Components')\n",
    "plt.ylabel('Variance (%)') #for each component\n",
    "plt.title('doing pca on pca-done variables-kind of again')\n",
    "plt.show()"
   ]
  }
 ],
 "metadata": {
  "kernelspec": {
   "display_name": "Python 3 (ipykernel)",
   "language": "python",
   "name": "python3"
  },
  "language_info": {
   "codemirror_mode": {
    "name": "ipython",
    "version": 3
   },
   "file_extension": ".py",
   "mimetype": "text/x-python",
   "name": "python",
   "nbconvert_exporter": "python",
   "pygments_lexer": "ipython3",
   "version": "3.8.10"
  }
 },
 "nbformat": 4,
 "nbformat_minor": 2
}
